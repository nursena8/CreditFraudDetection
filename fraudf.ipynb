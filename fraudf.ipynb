{
 "cells": [
  {
   "cell_type": "code",
   "execution_count": 1,
   "id": "25690be3",
   "metadata": {
    "_cell_guid": "b1076dfc-b9ad-4769-8c92-a6c4dae69d19",
    "_uuid": "8f2839f25d086af736a60e9eeb907d3b93b6e0e5",
    "execution": {
     "iopub.execute_input": "2024-05-15T20:28:04.807639Z",
     "iopub.status.busy": "2024-05-15T20:28:04.806867Z",
     "iopub.status.idle": "2024-05-15T20:28:06.954724Z",
     "shell.execute_reply": "2024-05-15T20:28:06.953846Z"
    },
    "papermill": {
     "duration": 2.163366,
     "end_time": "2024-05-15T20:28:06.957202",
     "exception": false,
     "start_time": "2024-05-15T20:28:04.793836",
     "status": "completed"
    },
    "tags": []
   },
   "outputs": [
    {
     "name": "stdout",
     "output_type": "stream",
     "text": [
      "/kaggle/input/creditcardfraud/creditcard.csv\n"
     ]
    }
   ],
   "source": [
    "# This Python 3 environment comes with many helpful analytics libraries installed\n",
    "# It is defined by the kaggle/python Docker image: https://github.com/kaggle/docker-python\n",
    "# For example, here's several helpful packages to load\n",
    "\n",
    "import numpy as np # linear algebra\n",
    "import pandas as pd # data processing, CSV file I/O (e.g. pd.read_csv)\n",
    "import seaborn as sns\n",
    "import matplotlib.pyplot as plt\n",
    "from sklearn.model_selection import KFold, StratifiedKFold\n",
    "# Input data files are available in the read-only \"../input/\" directory\n",
    "# For example, running this (by clicking run or pressing Shift+Enter) will list all files under the input directory\n",
    "\n",
    "import os\n",
    "for dirname, _, filenames in os.walk('/kaggle/input'):\n",
    "    for filename in filenames:\n",
    "        print(os.path.join(dirname, filename))\n",
    "\n",
    "# You can write up to 20GB to the current directory (/kaggle/working/) that gets preserved as output when you create a version using \"Save & Run All\" \n",
    "# You can also write temporary files to /kaggle/temp/, but they won't be saved outside of the current session"
   ]
  },
  {
   "cell_type": "markdown",
   "id": "9151911c",
   "metadata": {
    "papermill": {
     "duration": 0.010864,
     "end_time": "2024-05-15T20:28:06.979466",
     "exception": false,
     "start_time": "2024-05-15T20:28:06.968602",
     "status": "completed"
    },
    "tags": []
   },
   "source": [
    "# credit card Fraud Detection\n",
    "# Veri seti:\n",
    "* Bu proje : kredi kartının kullaıldığı her yerde bulunan kredi kartı dolandırıcılık tespiti yapılmasını amaçlamaktadır.BAnkalarda,e-commerce(e ticaret siteleri),ve kredi kartının geçtiği her yerde karşımıza çıkabilir.\n",
    "* amaç :kredi kartı dolandırıclık tespiti yaparak tahminde bulunmak ve tespit etmektir.\n",
    "* sınıflandırma projesidir.machine learning kullanılacaktır.\n",
    "* v1 -v29 feature değişkenleri standardlaştırlımış.\n",
    "* işem yapılan yer, lokasyon,site gibi değerler bunlar gizlenmiştir.\n",
    "* bizden beklenen bu v columnlarından önemli olanları bulup frauda sebep verenleri bulmaktır."
   ]
  },
  {
   "cell_type": "code",
   "execution_count": 2,
   "id": "675c014e",
   "metadata": {
    "execution": {
     "iopub.execute_input": "2024-05-15T20:28:07.002933Z",
     "iopub.status.busy": "2024-05-15T20:28:07.002054Z",
     "iopub.status.idle": "2024-05-15T20:28:10.391272Z",
     "shell.execute_reply": "2024-05-15T20:28:10.390335Z"
    },
    "papermill": {
     "duration": 3.403486,
     "end_time": "2024-05-15T20:28:10.393778",
     "exception": false,
     "start_time": "2024-05-15T20:28:06.990292",
     "status": "completed"
    },
    "tags": []
   },
   "outputs": [],
   "source": [
    "df=pd.read_csv(\"/kaggle/input/creditcardfraud/creditcard.csv\")"
   ]
  },
  {
   "cell_type": "code",
   "execution_count": 3,
   "id": "3aef8cdd",
   "metadata": {
    "execution": {
     "iopub.execute_input": "2024-05-15T20:28:10.420465Z",
     "iopub.status.busy": "2024-05-15T20:28:10.420141Z",
     "iopub.status.idle": "2024-05-15T20:28:10.534313Z",
     "shell.execute_reply": "2024-05-15T20:28:10.533227Z"
    },
    "papermill": {
     "duration": 0.130637,
     "end_time": "2024-05-15T20:28:10.536558",
     "exception": false,
     "start_time": "2024-05-15T20:28:10.405921",
     "status": "completed"
    },
    "tags": []
   },
   "outputs": [
    {
     "data": {
      "text/html": [
       "<div>\n",
       "<style scoped>\n",
       "    .dataframe tbody tr th:only-of-type {\n",
       "        vertical-align: middle;\n",
       "    }\n",
       "\n",
       "    .dataframe tbody tr th {\n",
       "        vertical-align: top;\n",
       "    }\n",
       "\n",
       "    .dataframe thead th {\n",
       "        text-align: right;\n",
       "    }\n",
       "</style>\n",
       "<table border=\"1\" class=\"dataframe\">\n",
       "  <thead>\n",
       "    <tr style=\"text-align: right;\">\n",
       "      <th></th>\n",
       "      <th>Time</th>\n",
       "      <th>V1</th>\n",
       "      <th>V2</th>\n",
       "      <th>V3</th>\n",
       "      <th>V4</th>\n",
       "      <th>V5</th>\n",
       "      <th>V6</th>\n",
       "      <th>V7</th>\n",
       "      <th>V8</th>\n",
       "      <th>V9</th>\n",
       "      <th>...</th>\n",
       "      <th>V21</th>\n",
       "      <th>V22</th>\n",
       "      <th>V23</th>\n",
       "      <th>V24</th>\n",
       "      <th>V25</th>\n",
       "      <th>V26</th>\n",
       "      <th>V27</th>\n",
       "      <th>V28</th>\n",
       "      <th>Amount</th>\n",
       "      <th>Class</th>\n",
       "    </tr>\n",
       "  </thead>\n",
       "  <tbody>\n",
       "    <tr>\n",
       "      <th>0</th>\n",
       "      <td>0.0</td>\n",
       "      <td>-1.359807</td>\n",
       "      <td>-0.072781</td>\n",
       "      <td>2.536347</td>\n",
       "      <td>1.378155</td>\n",
       "      <td>-0.338321</td>\n",
       "      <td>0.462388</td>\n",
       "      <td>0.239599</td>\n",
       "      <td>0.098698</td>\n",
       "      <td>0.363787</td>\n",
       "      <td>...</td>\n",
       "      <td>-0.018307</td>\n",
       "      <td>0.277838</td>\n",
       "      <td>-0.110474</td>\n",
       "      <td>0.066928</td>\n",
       "      <td>0.128539</td>\n",
       "      <td>-0.189115</td>\n",
       "      <td>0.133558</td>\n",
       "      <td>-0.021053</td>\n",
       "      <td>149.62</td>\n",
       "      <td>0</td>\n",
       "    </tr>\n",
       "    <tr>\n",
       "      <th>1</th>\n",
       "      <td>0.0</td>\n",
       "      <td>1.191857</td>\n",
       "      <td>0.266151</td>\n",
       "      <td>0.166480</td>\n",
       "      <td>0.448154</td>\n",
       "      <td>0.060018</td>\n",
       "      <td>-0.082361</td>\n",
       "      <td>-0.078803</td>\n",
       "      <td>0.085102</td>\n",
       "      <td>-0.255425</td>\n",
       "      <td>...</td>\n",
       "      <td>-0.225775</td>\n",
       "      <td>-0.638672</td>\n",
       "      <td>0.101288</td>\n",
       "      <td>-0.339846</td>\n",
       "      <td>0.167170</td>\n",
       "      <td>0.125895</td>\n",
       "      <td>-0.008983</td>\n",
       "      <td>0.014724</td>\n",
       "      <td>2.69</td>\n",
       "      <td>0</td>\n",
       "    </tr>\n",
       "    <tr>\n",
       "      <th>2</th>\n",
       "      <td>1.0</td>\n",
       "      <td>-1.358354</td>\n",
       "      <td>-1.340163</td>\n",
       "      <td>1.773209</td>\n",
       "      <td>0.379780</td>\n",
       "      <td>-0.503198</td>\n",
       "      <td>1.800499</td>\n",
       "      <td>0.791461</td>\n",
       "      <td>0.247676</td>\n",
       "      <td>-1.514654</td>\n",
       "      <td>...</td>\n",
       "      <td>0.247998</td>\n",
       "      <td>0.771679</td>\n",
       "      <td>0.909412</td>\n",
       "      <td>-0.689281</td>\n",
       "      <td>-0.327642</td>\n",
       "      <td>-0.139097</td>\n",
       "      <td>-0.055353</td>\n",
       "      <td>-0.059752</td>\n",
       "      <td>378.66</td>\n",
       "      <td>0</td>\n",
       "    </tr>\n",
       "    <tr>\n",
       "      <th>3</th>\n",
       "      <td>1.0</td>\n",
       "      <td>-0.966272</td>\n",
       "      <td>-0.185226</td>\n",
       "      <td>1.792993</td>\n",
       "      <td>-0.863291</td>\n",
       "      <td>-0.010309</td>\n",
       "      <td>1.247203</td>\n",
       "      <td>0.237609</td>\n",
       "      <td>0.377436</td>\n",
       "      <td>-1.387024</td>\n",
       "      <td>...</td>\n",
       "      <td>-0.108300</td>\n",
       "      <td>0.005274</td>\n",
       "      <td>-0.190321</td>\n",
       "      <td>-1.175575</td>\n",
       "      <td>0.647376</td>\n",
       "      <td>-0.221929</td>\n",
       "      <td>0.062723</td>\n",
       "      <td>0.061458</td>\n",
       "      <td>123.50</td>\n",
       "      <td>0</td>\n",
       "    </tr>\n",
       "    <tr>\n",
       "      <th>4</th>\n",
       "      <td>2.0</td>\n",
       "      <td>-1.158233</td>\n",
       "      <td>0.877737</td>\n",
       "      <td>1.548718</td>\n",
       "      <td>0.403034</td>\n",
       "      <td>-0.407193</td>\n",
       "      <td>0.095921</td>\n",
       "      <td>0.592941</td>\n",
       "      <td>-0.270533</td>\n",
       "      <td>0.817739</td>\n",
       "      <td>...</td>\n",
       "      <td>-0.009431</td>\n",
       "      <td>0.798278</td>\n",
       "      <td>-0.137458</td>\n",
       "      <td>0.141267</td>\n",
       "      <td>-0.206010</td>\n",
       "      <td>0.502292</td>\n",
       "      <td>0.219422</td>\n",
       "      <td>0.215153</td>\n",
       "      <td>69.99</td>\n",
       "      <td>0</td>\n",
       "    </tr>\n",
       "    <tr>\n",
       "      <th>...</th>\n",
       "      <td>...</td>\n",
       "      <td>...</td>\n",
       "      <td>...</td>\n",
       "      <td>...</td>\n",
       "      <td>...</td>\n",
       "      <td>...</td>\n",
       "      <td>...</td>\n",
       "      <td>...</td>\n",
       "      <td>...</td>\n",
       "      <td>...</td>\n",
       "      <td>...</td>\n",
       "      <td>...</td>\n",
       "      <td>...</td>\n",
       "      <td>...</td>\n",
       "      <td>...</td>\n",
       "      <td>...</td>\n",
       "      <td>...</td>\n",
       "      <td>...</td>\n",
       "      <td>...</td>\n",
       "      <td>...</td>\n",
       "      <td>...</td>\n",
       "    </tr>\n",
       "    <tr>\n",
       "      <th>284802</th>\n",
       "      <td>172786.0</td>\n",
       "      <td>-11.881118</td>\n",
       "      <td>10.071785</td>\n",
       "      <td>-9.834783</td>\n",
       "      <td>-2.066656</td>\n",
       "      <td>-5.364473</td>\n",
       "      <td>-2.606837</td>\n",
       "      <td>-4.918215</td>\n",
       "      <td>7.305334</td>\n",
       "      <td>1.914428</td>\n",
       "      <td>...</td>\n",
       "      <td>0.213454</td>\n",
       "      <td>0.111864</td>\n",
       "      <td>1.014480</td>\n",
       "      <td>-0.509348</td>\n",
       "      <td>1.436807</td>\n",
       "      <td>0.250034</td>\n",
       "      <td>0.943651</td>\n",
       "      <td>0.823731</td>\n",
       "      <td>0.77</td>\n",
       "      <td>0</td>\n",
       "    </tr>\n",
       "    <tr>\n",
       "      <th>284803</th>\n",
       "      <td>172787.0</td>\n",
       "      <td>-0.732789</td>\n",
       "      <td>-0.055080</td>\n",
       "      <td>2.035030</td>\n",
       "      <td>-0.738589</td>\n",
       "      <td>0.868229</td>\n",
       "      <td>1.058415</td>\n",
       "      <td>0.024330</td>\n",
       "      <td>0.294869</td>\n",
       "      <td>0.584800</td>\n",
       "      <td>...</td>\n",
       "      <td>0.214205</td>\n",
       "      <td>0.924384</td>\n",
       "      <td>0.012463</td>\n",
       "      <td>-1.016226</td>\n",
       "      <td>-0.606624</td>\n",
       "      <td>-0.395255</td>\n",
       "      <td>0.068472</td>\n",
       "      <td>-0.053527</td>\n",
       "      <td>24.79</td>\n",
       "      <td>0</td>\n",
       "    </tr>\n",
       "    <tr>\n",
       "      <th>284804</th>\n",
       "      <td>172788.0</td>\n",
       "      <td>1.919565</td>\n",
       "      <td>-0.301254</td>\n",
       "      <td>-3.249640</td>\n",
       "      <td>-0.557828</td>\n",
       "      <td>2.630515</td>\n",
       "      <td>3.031260</td>\n",
       "      <td>-0.296827</td>\n",
       "      <td>0.708417</td>\n",
       "      <td>0.432454</td>\n",
       "      <td>...</td>\n",
       "      <td>0.232045</td>\n",
       "      <td>0.578229</td>\n",
       "      <td>-0.037501</td>\n",
       "      <td>0.640134</td>\n",
       "      <td>0.265745</td>\n",
       "      <td>-0.087371</td>\n",
       "      <td>0.004455</td>\n",
       "      <td>-0.026561</td>\n",
       "      <td>67.88</td>\n",
       "      <td>0</td>\n",
       "    </tr>\n",
       "    <tr>\n",
       "      <th>284805</th>\n",
       "      <td>172788.0</td>\n",
       "      <td>-0.240440</td>\n",
       "      <td>0.530483</td>\n",
       "      <td>0.702510</td>\n",
       "      <td>0.689799</td>\n",
       "      <td>-0.377961</td>\n",
       "      <td>0.623708</td>\n",
       "      <td>-0.686180</td>\n",
       "      <td>0.679145</td>\n",
       "      <td>0.392087</td>\n",
       "      <td>...</td>\n",
       "      <td>0.265245</td>\n",
       "      <td>0.800049</td>\n",
       "      <td>-0.163298</td>\n",
       "      <td>0.123205</td>\n",
       "      <td>-0.569159</td>\n",
       "      <td>0.546668</td>\n",
       "      <td>0.108821</td>\n",
       "      <td>0.104533</td>\n",
       "      <td>10.00</td>\n",
       "      <td>0</td>\n",
       "    </tr>\n",
       "    <tr>\n",
       "      <th>284806</th>\n",
       "      <td>172792.0</td>\n",
       "      <td>-0.533413</td>\n",
       "      <td>-0.189733</td>\n",
       "      <td>0.703337</td>\n",
       "      <td>-0.506271</td>\n",
       "      <td>-0.012546</td>\n",
       "      <td>-0.649617</td>\n",
       "      <td>1.577006</td>\n",
       "      <td>-0.414650</td>\n",
       "      <td>0.486180</td>\n",
       "      <td>...</td>\n",
       "      <td>0.261057</td>\n",
       "      <td>0.643078</td>\n",
       "      <td>0.376777</td>\n",
       "      <td>0.008797</td>\n",
       "      <td>-0.473649</td>\n",
       "      <td>-0.818267</td>\n",
       "      <td>-0.002415</td>\n",
       "      <td>0.013649</td>\n",
       "      <td>217.00</td>\n",
       "      <td>0</td>\n",
       "    </tr>\n",
       "  </tbody>\n",
       "</table>\n",
       "<p>284807 rows × 31 columns</p>\n",
       "</div>"
      ],
      "text/plain": [
       "            Time         V1         V2        V3        V4        V5  \\\n",
       "0            0.0  -1.359807  -0.072781  2.536347  1.378155 -0.338321   \n",
       "1            0.0   1.191857   0.266151  0.166480  0.448154  0.060018   \n",
       "2            1.0  -1.358354  -1.340163  1.773209  0.379780 -0.503198   \n",
       "3            1.0  -0.966272  -0.185226  1.792993 -0.863291 -0.010309   \n",
       "4            2.0  -1.158233   0.877737  1.548718  0.403034 -0.407193   \n",
       "...          ...        ...        ...       ...       ...       ...   \n",
       "284802  172786.0 -11.881118  10.071785 -9.834783 -2.066656 -5.364473   \n",
       "284803  172787.0  -0.732789  -0.055080  2.035030 -0.738589  0.868229   \n",
       "284804  172788.0   1.919565  -0.301254 -3.249640 -0.557828  2.630515   \n",
       "284805  172788.0  -0.240440   0.530483  0.702510  0.689799 -0.377961   \n",
       "284806  172792.0  -0.533413  -0.189733  0.703337 -0.506271 -0.012546   \n",
       "\n",
       "              V6        V7        V8        V9  ...       V21       V22  \\\n",
       "0       0.462388  0.239599  0.098698  0.363787  ... -0.018307  0.277838   \n",
       "1      -0.082361 -0.078803  0.085102 -0.255425  ... -0.225775 -0.638672   \n",
       "2       1.800499  0.791461  0.247676 -1.514654  ...  0.247998  0.771679   \n",
       "3       1.247203  0.237609  0.377436 -1.387024  ... -0.108300  0.005274   \n",
       "4       0.095921  0.592941 -0.270533  0.817739  ... -0.009431  0.798278   \n",
       "...          ...       ...       ...       ...  ...       ...       ...   \n",
       "284802 -2.606837 -4.918215  7.305334  1.914428  ...  0.213454  0.111864   \n",
       "284803  1.058415  0.024330  0.294869  0.584800  ...  0.214205  0.924384   \n",
       "284804  3.031260 -0.296827  0.708417  0.432454  ...  0.232045  0.578229   \n",
       "284805  0.623708 -0.686180  0.679145  0.392087  ...  0.265245  0.800049   \n",
       "284806 -0.649617  1.577006 -0.414650  0.486180  ...  0.261057  0.643078   \n",
       "\n",
       "             V23       V24       V25       V26       V27       V28  Amount  \\\n",
       "0      -0.110474  0.066928  0.128539 -0.189115  0.133558 -0.021053  149.62   \n",
       "1       0.101288 -0.339846  0.167170  0.125895 -0.008983  0.014724    2.69   \n",
       "2       0.909412 -0.689281 -0.327642 -0.139097 -0.055353 -0.059752  378.66   \n",
       "3      -0.190321 -1.175575  0.647376 -0.221929  0.062723  0.061458  123.50   \n",
       "4      -0.137458  0.141267 -0.206010  0.502292  0.219422  0.215153   69.99   \n",
       "...          ...       ...       ...       ...       ...       ...     ...   \n",
       "284802  1.014480 -0.509348  1.436807  0.250034  0.943651  0.823731    0.77   \n",
       "284803  0.012463 -1.016226 -0.606624 -0.395255  0.068472 -0.053527   24.79   \n",
       "284804 -0.037501  0.640134  0.265745 -0.087371  0.004455 -0.026561   67.88   \n",
       "284805 -0.163298  0.123205 -0.569159  0.546668  0.108821  0.104533   10.00   \n",
       "284806  0.376777  0.008797 -0.473649 -0.818267 -0.002415  0.013649  217.00   \n",
       "\n",
       "        Class  \n",
       "0           0  \n",
       "1           0  \n",
       "2           0  \n",
       "3           0  \n",
       "4           0  \n",
       "...       ...  \n",
       "284802      0  \n",
       "284803      0  \n",
       "284804      0  \n",
       "284805      0  \n",
       "284806      0  \n",
       "\n",
       "[284807 rows x 31 columns]"
      ]
     },
     "execution_count": 3,
     "metadata": {},
     "output_type": "execute_result"
    }
   ],
   "source": [
    "df #id column primary keydir v1-v29 columlartı gizlenmiş feature dır.yani bunlar müşteriye ait herhangi bir özelliktir."
   ]
  },
  {
   "cell_type": "code",
   "execution_count": 4,
   "id": "5899b98a",
   "metadata": {
    "execution": {
     "iopub.execute_input": "2024-05-15T20:28:10.562286Z",
     "iopub.status.busy": "2024-05-15T20:28:10.561991Z",
     "iopub.status.idle": "2024-05-15T20:28:10.566408Z",
     "shell.execute_reply": "2024-05-15T20:28:10.565331Z"
    },
    "papermill": {
     "duration": 0.019748,
     "end_time": "2024-05-15T20:28:10.568659",
     "exception": false,
     "start_time": "2024-05-15T20:28:10.548911",
     "status": "completed"
    },
    "tags": []
   },
   "outputs": [],
   "source": [
    "# amount=ücret miktarıdır. class 1 ise sahtekarlık vardır. 0 ise yoktur demektir."
   ]
  },
  {
   "cell_type": "code",
   "execution_count": 5,
   "id": "b595826e",
   "metadata": {
    "execution": {
     "iopub.execute_input": "2024-05-15T20:28:10.593506Z",
     "iopub.status.busy": "2024-05-15T20:28:10.593173Z",
     "iopub.status.idle": "2024-05-15T20:28:10.608976Z",
     "shell.execute_reply": "2024-05-15T20:28:10.608102Z"
    },
    "papermill": {
     "duration": 0.030478,
     "end_time": "2024-05-15T20:28:10.610923",
     "exception": false,
     "start_time": "2024-05-15T20:28:10.580445",
     "status": "completed"
    },
    "tags": []
   },
   "outputs": [
    {
     "data": {
      "text/plain": [
       "Class\n",
       "0    284315\n",
       "1       492\n",
       "Name: count, dtype: int64"
      ]
     },
     "execution_count": 5,
     "metadata": {},
     "output_type": "execute_result"
    }
   ],
   "source": [
    "df.Class.value_counts()"
   ]
  },
  {
   "cell_type": "code",
   "execution_count": 6,
   "id": "67d66e36",
   "metadata": {
    "execution": {
     "iopub.execute_input": "2024-05-15T20:28:10.636377Z",
     "iopub.status.busy": "2024-05-15T20:28:10.635650Z",
     "iopub.status.idle": "2024-05-15T20:28:10.646122Z",
     "shell.execute_reply": "2024-05-15T20:28:10.645158Z"
    },
    "papermill": {
     "duration": 0.025075,
     "end_time": "2024-05-15T20:28:10.648177",
     "exception": false,
     "start_time": "2024-05-15T20:28:10.623102",
     "status": "completed"
    },
    "tags": []
   },
   "outputs": [
    {
     "name": "stdout",
     "output_type": "stream",
     "text": [
      "%99.82725143693798 fraud olmayan\n",
      "%0.1727485630620034 fraud\n"
     ]
    }
   ],
   "source": [
    "print(f\"%{df.Class.value_counts()[0]/len(df) *100} fraud olmayan\")\n",
    "print(f\"%{df.Class.value_counts()[1]/len(df)*100} fraud\")"
   ]
  },
  {
   "cell_type": "code",
   "execution_count": null,
   "id": "cb154cab",
   "metadata": {
    "papermill": {
     "duration": 0.011669,
     "end_time": "2024-05-15T20:28:10.671473",
     "exception": false,
     "start_time": "2024-05-15T20:28:10.659804",
     "status": "completed"
    },
    "tags": []
   },
   "outputs": [],
   "source": []
  },
  {
   "cell_type": "code",
   "execution_count": 7,
   "id": "f431639d",
   "metadata": {
    "execution": {
     "iopub.execute_input": "2024-05-15T20:28:10.696027Z",
     "iopub.status.busy": "2024-05-15T20:28:10.695775Z",
     "iopub.status.idle": "2024-05-15T20:28:10.718396Z",
     "shell.execute_reply": "2024-05-15T20:28:10.717567Z"
    },
    "papermill": {
     "duration": 0.036834,
     "end_time": "2024-05-15T20:28:10.720236",
     "exception": false,
     "start_time": "2024-05-15T20:28:10.683402",
     "status": "completed"
    },
    "tags": []
   },
   "outputs": [
    {
     "data": {
      "text/plain": [
       "0"
      ]
     },
     "execution_count": 7,
     "metadata": {},
     "output_type": "execute_result"
    }
   ],
   "source": [
    "df.isnull().sum().max()"
   ]
  },
  {
   "cell_type": "code",
   "execution_count": 8,
   "id": "393393e3",
   "metadata": {
    "execution": {
     "iopub.execute_input": "2024-05-15T20:28:10.745071Z",
     "iopub.status.busy": "2024-05-15T20:28:10.744563Z",
     "iopub.status.idle": "2024-05-15T20:28:10.750295Z",
     "shell.execute_reply": "2024-05-15T20:28:10.749480Z"
    },
    "papermill": {
     "duration": 0.020372,
     "end_time": "2024-05-15T20:28:10.752276",
     "exception": false,
     "start_time": "2024-05-15T20:28:10.731904",
     "status": "completed"
    },
    "tags": []
   },
   "outputs": [
    {
     "data": {
      "text/plain": [
       "Index(['Time', 'V1', 'V2', 'V3', 'V4', 'V5', 'V6', 'V7', 'V8', 'V9', 'V10',\n",
       "       'V11', 'V12', 'V13', 'V14', 'V15', 'V16', 'V17', 'V18', 'V19', 'V20',\n",
       "       'V21', 'V22', 'V23', 'V24', 'V25', 'V26', 'V27', 'V28', 'Amount',\n",
       "       'Class'],\n",
       "      dtype='object')"
      ]
     },
     "execution_count": 8,
     "metadata": {},
     "output_type": "execute_result"
    }
   ],
   "source": [
    "df.columns"
   ]
  },
  {
   "cell_type": "code",
   "execution_count": null,
   "id": "fa5f8e8d",
   "metadata": {
    "papermill": {
     "duration": 0.011773,
     "end_time": "2024-05-15T20:28:10.776348",
     "exception": false,
     "start_time": "2024-05-15T20:28:10.764575",
     "status": "completed"
    },
    "tags": []
   },
   "outputs": [],
   "source": []
  },
  {
   "cell_type": "code",
   "execution_count": 9,
   "id": "1557c0a8",
   "metadata": {
    "execution": {
     "iopub.execute_input": "2024-05-15T20:28:10.802049Z",
     "iopub.status.busy": "2024-05-15T20:28:10.801541Z",
     "iopub.status.idle": "2024-05-15T20:28:11.047668Z",
     "shell.execute_reply": "2024-05-15T20:28:11.046735Z"
    },
    "papermill": {
     "duration": 0.260956,
     "end_time": "2024-05-15T20:28:11.049630",
     "exception": false,
     "start_time": "2024-05-15T20:28:10.788674",
     "status": "completed"
    },
    "tags": []
   },
   "outputs": [
    {
     "data": {
      "text/plain": [
       "<Axes: xlabel='Class', ylabel='count'>"
      ]
     },
     "execution_count": 9,
     "metadata": {},
     "output_type": "execute_result"
    },
    {
     "data": {
      "image/png": "[encoded data removed]",
      "text/plain": [
       "<Figure size 640x480 with 1 Axes>"
      ]
     },
     "metadata": {},
     "output_type": "display_data"
    }
   ],
   "source": [
    "sns.countplot(df,x=\"Class\") #hemen hemen 1/0 eşit gibi görünüyor."
   ]
  },
  {
   "cell_type": "code",
   "execution_count": 10,
   "id": "dabf10d9",
   "metadata": {
    "execution": {
     "iopub.execute_input": "2024-05-15T20:28:11.075665Z",
     "iopub.status.busy": "2024-05-15T20:28:11.075380Z",
     "iopub.status.idle": "2024-05-15T20:28:11.435403Z",
     "shell.execute_reply": "2024-05-15T20:28:11.434428Z"
    },
    "papermill": {
     "duration": 0.375587,
     "end_time": "2024-05-15T20:28:11.437665",
     "exception": false,
     "start_time": "2024-05-15T20:28:11.062078",
     "status": "completed"
    },
    "tags": []
   },
   "outputs": [
    {
     "data": {
      "text/html": [
       "<div>\n",
       "<style scoped>\n",
       "    .dataframe tbody tr th:only-of-type {\n",
       "        vertical-align: middle;\n",
       "    }\n",
       "\n",
       "    .dataframe tbody tr th {\n",
       "        vertical-align: top;\n",
       "    }\n",
       "\n",
       "    .dataframe thead th {\n",
       "        text-align: right;\n",
       "    }\n",
       "</style>\n",
       "<table border=\"1\" class=\"dataframe\">\n",
       "  <thead>\n",
       "    <tr style=\"text-align: right;\">\n",
       "      <th></th>\n",
       "      <th>Time</th>\n",
       "      <th>V1</th>\n",
       "      <th>V2</th>\n",
       "      <th>V3</th>\n",
       "      <th>V4</th>\n",
       "      <th>V5</th>\n",
       "      <th>V6</th>\n",
       "      <th>V7</th>\n",
       "      <th>V8</th>\n",
       "      <th>V9</th>\n",
       "      <th>...</th>\n",
       "      <th>V21</th>\n",
       "      <th>V22</th>\n",
       "      <th>V23</th>\n",
       "      <th>V24</th>\n",
       "      <th>V25</th>\n",
       "      <th>V26</th>\n",
       "      <th>V27</th>\n",
       "      <th>V28</th>\n",
       "      <th>Amount</th>\n",
       "      <th>Class</th>\n",
       "    </tr>\n",
       "  </thead>\n",
       "  <tbody>\n",
       "    <tr>\n",
       "      <th>count</th>\n",
       "      <td>284807.000000</td>\n",
       "      <td>2.848070e+05</td>\n",
       "      <td>2.848070e+05</td>\n",
       "      <td>2.848070e+05</td>\n",
       "      <td>2.848070e+05</td>\n",
       "      <td>2.848070e+05</td>\n",
       "      <td>2.848070e+05</td>\n",
       "      <td>2.848070e+05</td>\n",
       "      <td>2.848070e+05</td>\n",
       "      <td>2.848070e+05</td>\n",
       "      <td>...</td>\n",
       "      <td>2.848070e+05</td>\n",
       "      <td>2.848070e+05</td>\n",
       "      <td>2.848070e+05</td>\n",
       "      <td>2.848070e+05</td>\n",
       "      <td>2.848070e+05</td>\n",
       "      <td>2.848070e+05</td>\n",
       "      <td>2.848070e+05</td>\n",
       "      <td>2.848070e+05</td>\n",
       "      <td>284807.000000</td>\n",
       "      <td>284807.000000</td>\n",
       "    </tr>\n",
       "    <tr>\n",
       "      <th>mean</th>\n",
       "      <td>94813.859575</td>\n",
       "      <td>1.168375e-15</td>\n",
       "      <td>3.416908e-16</td>\n",
       "      <td>-1.379537e-15</td>\n",
       "      <td>2.074095e-15</td>\n",
       "      <td>9.604066e-16</td>\n",
       "      <td>1.487313e-15</td>\n",
       "      <td>-5.556467e-16</td>\n",
       "      <td>1.213481e-16</td>\n",
       "      <td>-2.406331e-15</td>\n",
       "      <td>...</td>\n",
       "      <td>1.654067e-16</td>\n",
       "      <td>-3.568593e-16</td>\n",
       "      <td>2.578648e-16</td>\n",
       "      <td>4.473266e-15</td>\n",
       "      <td>5.340915e-16</td>\n",
       "      <td>1.683437e-15</td>\n",
       "      <td>-3.660091e-16</td>\n",
       "      <td>-1.227390e-16</td>\n",
       "      <td>88.349619</td>\n",
       "      <td>0.001727</td>\n",
       "    </tr>\n",
       "    <tr>\n",
       "      <th>std</th>\n",
       "      <td>47488.145955</td>\n",
       "      <td>1.958696e+00</td>\n",
       "      <td>1.651309e+00</td>\n",
       "      <td>1.516255e+00</td>\n",
       "      <td>1.415869e+00</td>\n",
       "      <td>1.380247e+00</td>\n",
       "      <td>1.332271e+00</td>\n",
       "      <td>1.237094e+00</td>\n",
       "      <td>1.194353e+00</td>\n",
       "      <td>1.098632e+00</td>\n",
       "      <td>...</td>\n",
       "      <td>7.345240e-01</td>\n",
       "      <td>7.257016e-01</td>\n",
       "      <td>6.244603e-01</td>\n",
       "      <td>6.056471e-01</td>\n",
       "      <td>5.212781e-01</td>\n",
       "      <td>4.822270e-01</td>\n",
       "      <td>4.036325e-01</td>\n",
       "      <td>3.300833e-01</td>\n",
       "      <td>250.120109</td>\n",
       "      <td>0.041527</td>\n",
       "    </tr>\n",
       "    <tr>\n",
       "      <th>min</th>\n",
       "      <td>0.000000</td>\n",
       "      <td>-5.640751e+01</td>\n",
       "      <td>-7.271573e+01</td>\n",
       "      <td>-4.832559e+01</td>\n",
       "      <td>-5.683171e+00</td>\n",
       "      <td>-1.137433e+02</td>\n",
       "      <td>-2.616051e+01</td>\n",
       "      <td>-4.355724e+01</td>\n",
       "      <td>-7.321672e+01</td>\n",
       "      <td>-1.343407e+01</td>\n",
       "      <td>...</td>\n",
       "      <td>-3.483038e+01</td>\n",
       "      <td>-1.093314e+01</td>\n",
       "      <td>-4.480774e+01</td>\n",
       "      <td>-2.836627e+00</td>\n",
       "      <td>-1.029540e+01</td>\n",
       "      <td>-2.604551e+00</td>\n",
       "      <td>-2.256568e+01</td>\n",
       "      <td>-1.543008e+01</td>\n",
       "      <td>0.000000</td>\n",
       "      <td>0.000000</td>\n",
       "    </tr>\n",
       "    <tr>\n",
       "      <th>25%</th>\n",
       "      <td>54201.500000</td>\n",
       "      <td>-9.203734e-01</td>\n",
       "      <td>-5.985499e-01</td>\n",
       "      <td>-8.903648e-01</td>\n",
       "      <td>-8.486401e-01</td>\n",
       "      <td>-6.915971e-01</td>\n",
       "      <td>-7.682956e-01</td>\n",
       "      <td>-5.540759e-01</td>\n",
       "      <td>-2.086297e-01</td>\n",
       "      <td>-6.430976e-01</td>\n",
       "      <td>...</td>\n",
       "      <td>-2.283949e-01</td>\n",
       "      <td>-5.423504e-01</td>\n",
       "      <td>-1.618463e-01</td>\n",
       "      <td>-3.545861e-01</td>\n",
       "      <td>-3.171451e-01</td>\n",
       "      <td>-3.269839e-01</td>\n",
       "      <td>-7.083953e-02</td>\n",
       "      <td>-5.295979e-02</td>\n",
       "      <td>5.600000</td>\n",
       "      <td>0.000000</td>\n",
       "    </tr>\n",
       "    <tr>\n",
       "      <th>50%</th>\n",
       "      <td>84692.000000</td>\n",
       "      <td>1.810880e-02</td>\n",
       "      <td>6.548556e-02</td>\n",
       "      <td>1.798463e-01</td>\n",
       "      <td>-1.984653e-02</td>\n",
       "      <td>-5.433583e-02</td>\n",
       "      <td>-2.741871e-01</td>\n",
       "      <td>4.010308e-02</td>\n",
       "      <td>2.235804e-02</td>\n",
       "      <td>-5.142873e-02</td>\n",
       "      <td>...</td>\n",
       "      <td>-2.945017e-02</td>\n",
       "      <td>6.781943e-03</td>\n",
       "      <td>-1.119293e-02</td>\n",
       "      <td>4.097606e-02</td>\n",
       "      <td>1.659350e-02</td>\n",
       "      <td>-5.213911e-02</td>\n",
       "      <td>1.342146e-03</td>\n",
       "      <td>1.124383e-02</td>\n",
       "      <td>22.000000</td>\n",
       "      <td>0.000000</td>\n",
       "    </tr>\n",
       "    <tr>\n",
       "      <th>75%</th>\n",
       "      <td>139320.500000</td>\n",
       "      <td>1.315642e+00</td>\n",
       "      <td>8.037239e-01</td>\n",
       "      <td>1.027196e+00</td>\n",
       "      <td>7.433413e-01</td>\n",
       "      <td>6.119264e-01</td>\n",
       "      <td>3.985649e-01</td>\n",
       "      <td>5.704361e-01</td>\n",
       "      <td>3.273459e-01</td>\n",
       "      <td>5.971390e-01</td>\n",
       "      <td>...</td>\n",
       "      <td>1.863772e-01</td>\n",
       "      <td>5.285536e-01</td>\n",
       "      <td>1.476421e-01</td>\n",
       "      <td>4.395266e-01</td>\n",
       "      <td>3.507156e-01</td>\n",
       "      <td>2.409522e-01</td>\n",
       "      <td>9.104512e-02</td>\n",
       "      <td>7.827995e-02</td>\n",
       "      <td>77.165000</td>\n",
       "      <td>0.000000</td>\n",
       "    </tr>\n",
       "    <tr>\n",
       "      <th>max</th>\n",
       "      <td>172792.000000</td>\n",
       "      <td>2.454930e+00</td>\n",
       "      <td>2.205773e+01</td>\n",
       "      <td>9.382558e+00</td>\n",
       "      <td>1.687534e+01</td>\n",
       "      <td>3.480167e+01</td>\n",
       "      <td>7.330163e+01</td>\n",
       "      <td>1.205895e+02</td>\n",
       "      <td>2.000721e+01</td>\n",
       "      <td>1.559499e+01</td>\n",
       "      <td>...</td>\n",
       "      <td>2.720284e+01</td>\n",
       "      <td>1.050309e+01</td>\n",
       "      <td>2.252841e+01</td>\n",
       "      <td>4.584549e+00</td>\n",
       "      <td>7.519589e+00</td>\n",
       "      <td>3.517346e+00</td>\n",
       "      <td>3.161220e+01</td>\n",
       "      <td>3.384781e+01</td>\n",
       "      <td>25691.160000</td>\n",
       "      <td>1.000000</td>\n",
       "    </tr>\n",
       "  </tbody>\n",
       "</table>\n",
       "<p>8 rows × 31 columns</p>\n",
       "</div>"
      ],
      "text/plain": [
       "                Time            V1            V2            V3            V4  \\\n",
       "count  284807.000000  2.848070e+05  2.848070e+05  2.848070e+05  2.848070e+05   \n",
       "mean    94813.859575  1.168375e-15  3.416908e-16 -1.379537e-15  2.074095e-15   \n",
       "std     47488.145955  1.958696e+00  1.651309e+00  1.516255e+00  1.415869e+00   \n",
       "min         0.000000 -5.640751e+01 -7.271573e+01 -4.832559e+01 -5.683171e+00   \n",
       "25%     54201.500000 -9.203734e-01 -5.985499e-01 -8.903648e-01 -8.486401e-01   \n",
       "50%     84692.000000  1.810880e-02  6.548556e-02  1.798463e-01 -1.984653e-02   \n",
       "75%    139320.500000  1.315642e+00  8.037239e-01  1.027196e+00  7.433413e-01   \n",
       "max    172792.000000  2.454930e+00  2.205773e+01  9.382558e+00  1.687534e+01   \n",
       "\n",
       "                 V5            V6            V7            V8            V9  \\\n",
       "count  2.848070e+05  2.848070e+05  2.848070e+05  2.848070e+05  2.848070e+05   \n",
       "mean   9.604066e-16  1.487313e-15 -5.556467e-16  1.213481e-16 -2.406331e-15   \n",
       "std    1.380247e+00  1.332271e+00  1.237094e+00  1.194353e+00  1.098632e+00   \n",
       "min   -1.137433e+02 -2.616051e+01 -4.355724e+01 -7.321672e+01 -1.343407e+01   \n",
       "25%   -6.915971e-01 -7.682956e-01 -5.540759e-01 -2.086297e-01 -6.430976e-01   \n",
       "50%   -5.433583e-02 -2.741871e-01  4.010308e-02  2.235804e-02 -5.142873e-02   \n",
       "75%    6.119264e-01  3.985649e-01  5.704361e-01  3.273459e-01  5.971390e-01   \n",
       "max    3.480167e+01  7.330163e+01  1.205895e+02  2.000721e+01  1.559499e+01   \n",
       "\n",
       "       ...           V21           V22           V23           V24  \\\n",
       "count  ...  2.848070e+05  2.848070e+05  2.848070e+05  2.848070e+05   \n",
       "mean   ...  1.654067e-16 -3.568593e-16  2.578648e-16  4.473266e-15   \n",
       "std    ...  7.345240e-01  7.257016e-01  6.244603e-01  6.056471e-01   \n",
       "min    ... -3.483038e+01 -1.093314e+01 -4.480774e+01 -2.836627e+00   \n",
       "25%    ... -2.283949e-01 -5.423504e-01 -1.618463e-01 -3.545861e-01   \n",
       "50%    ... -2.945017e-02  6.781943e-03 -1.119293e-02  4.097606e-02   \n",
       "75%    ...  1.863772e-01  5.285536e-01  1.476421e-01  4.395266e-01   \n",
       "max    ...  2.720284e+01  1.050309e+01  2.252841e+01  4.584549e+00   \n",
       "\n",
       "                V25           V26           V27           V28         Amount  \\\n",
       "count  2.848070e+05  2.848070e+05  2.848070e+05  2.848070e+05  284807.000000   \n",
       "mean   5.340915e-16  1.683437e-15 -3.660091e-16 -1.227390e-16      88.349619   \n",
       "std    5.212781e-01  4.822270e-01  4.036325e-01  3.300833e-01     250.120109   \n",
       "min   -1.029540e+01 -2.604551e+00 -2.256568e+01 -1.543008e+01       0.000000   \n",
       "25%   -3.171451e-01 -3.269839e-01 -7.083953e-02 -5.295979e-02       5.600000   \n",
       "50%    1.659350e-02 -5.213911e-02  1.342146e-03  1.124383e-02      22.000000   \n",
       "75%    3.507156e-01  2.409522e-01  9.104512e-02  7.827995e-02      77.165000   \n",
       "max    7.519589e+00  3.517346e+00  3.161220e+01  3.384781e+01   25691.160000   \n",
       "\n",
       "               Class  \n",
       "count  284807.000000  \n",
       "mean        0.001727  \n",
       "std         0.041527  \n",
       "min         0.000000  \n",
       "25%         0.000000  \n",
       "50%         0.000000  \n",
       "75%         0.000000  \n",
       "max         1.000000  \n",
       "\n",
       "[8 rows x 31 columns]"
      ]
     },
     "execution_count": 10,
     "metadata": {},
     "output_type": "execute_result"
    }
   ],
   "source": [
    "df.describe()"
   ]
  },
  {
   "cell_type": "code",
   "execution_count": 11,
   "id": "8fa5a8bd",
   "metadata": {
    "execution": {
     "iopub.execute_input": "2024-05-15T20:28:11.465042Z",
     "iopub.status.busy": "2024-05-15T20:28:11.464761Z",
     "iopub.status.idle": "2024-05-15T20:28:11.485050Z",
     "shell.execute_reply": "2024-05-15T20:28:11.484274Z"
    },
    "papermill": {
     "duration": 0.036102,
     "end_time": "2024-05-15T20:28:11.487083",
     "exception": false,
     "start_time": "2024-05-15T20:28:11.450981",
     "status": "completed"
    },
    "tags": []
   },
   "outputs": [],
   "source": [
    "#we see that we have sclaed feature but we have to scale all feature (Time ,Amount) to create model.We have used Robust\n",
    "#scaler because this choice more resilince for outlier values\n",
    "\n",
    "from sklearn.preprocessing import RobustScaler\n",
    "\n",
    "scaler = RobustScaler()\n",
    "df.Time = scaler.fit_transform(df.Time.values.reshape(-1,1))\n",
    "df.Amount = scaler.fit_transform(df.Amount.values.reshape(-1,1))"
   ]
  },
  {
   "cell_type": "code",
   "execution_count": 12,
   "id": "fe9fd7d1",
   "metadata": {
    "execution": {
     "iopub.execute_input": "2024-05-15T20:28:11.513900Z",
     "iopub.status.busy": "2024-05-15T20:28:11.513626Z",
     "iopub.status.idle": "2024-05-15T20:28:11.666425Z",
     "shell.execute_reply": "2024-05-15T20:28:11.665544Z"
    },
    "papermill": {
     "duration": 0.168826,
     "end_time": "2024-05-15T20:28:11.668739",
     "exception": false,
     "start_time": "2024-05-15T20:28:11.499913",
     "status": "completed"
    },
    "tags": []
   },
   "outputs": [
    {
     "data": {
      "text/html": [
       "<div>\n",
       "<style scoped>\n",
       "    .dataframe tbody tr th:only-of-type {\n",
       "        vertical-align: middle;\n",
       "    }\n",
       "\n",
       "    .dataframe tbody tr th {\n",
       "        vertical-align: top;\n",
       "    }\n",
       "\n",
       "    .dataframe thead th {\n",
       "        text-align: right;\n",
       "    }\n",
       "</style>\n",
       "<table border=\"1\" class=\"dataframe\">\n",
       "  <thead>\n",
       "    <tr style=\"text-align: right;\">\n",
       "      <th></th>\n",
       "      <th>Time</th>\n",
       "      <th>V1</th>\n",
       "      <th>V2</th>\n",
       "      <th>V3</th>\n",
       "      <th>V4</th>\n",
       "      <th>V5</th>\n",
       "      <th>V6</th>\n",
       "      <th>V7</th>\n",
       "      <th>V8</th>\n",
       "      <th>V9</th>\n",
       "      <th>...</th>\n",
       "      <th>V21</th>\n",
       "      <th>V22</th>\n",
       "      <th>V23</th>\n",
       "      <th>V24</th>\n",
       "      <th>V25</th>\n",
       "      <th>V26</th>\n",
       "      <th>V27</th>\n",
       "      <th>V28</th>\n",
       "      <th>Amount</th>\n",
       "      <th>Class</th>\n",
       "    </tr>\n",
       "  </thead>\n",
       "  <tbody>\n",
       "    <tr>\n",
       "      <th>0</th>\n",
       "      <td>-0.994983</td>\n",
       "      <td>-1.359807</td>\n",
       "      <td>-0.072781</td>\n",
       "      <td>2.536347</td>\n",
       "      <td>1.378155</td>\n",
       "      <td>-0.338321</td>\n",
       "      <td>0.462388</td>\n",
       "      <td>0.239599</td>\n",
       "      <td>0.098698</td>\n",
       "      <td>0.363787</td>\n",
       "      <td>...</td>\n",
       "      <td>-0.018307</td>\n",
       "      <td>0.277838</td>\n",
       "      <td>-0.110474</td>\n",
       "      <td>0.066928</td>\n",
       "      <td>0.128539</td>\n",
       "      <td>-0.189115</td>\n",
       "      <td>0.133558</td>\n",
       "      <td>-0.021053</td>\n",
       "      <td>1.783274</td>\n",
       "      <td>0</td>\n",
       "    </tr>\n",
       "    <tr>\n",
       "      <th>1</th>\n",
       "      <td>-0.994983</td>\n",
       "      <td>1.191857</td>\n",
       "      <td>0.266151</td>\n",
       "      <td>0.166480</td>\n",
       "      <td>0.448154</td>\n",
       "      <td>0.060018</td>\n",
       "      <td>-0.082361</td>\n",
       "      <td>-0.078803</td>\n",
       "      <td>0.085102</td>\n",
       "      <td>-0.255425</td>\n",
       "      <td>...</td>\n",
       "      <td>-0.225775</td>\n",
       "      <td>-0.638672</td>\n",
       "      <td>0.101288</td>\n",
       "      <td>-0.339846</td>\n",
       "      <td>0.167170</td>\n",
       "      <td>0.125895</td>\n",
       "      <td>-0.008983</td>\n",
       "      <td>0.014724</td>\n",
       "      <td>-0.269825</td>\n",
       "      <td>0</td>\n",
       "    </tr>\n",
       "    <tr>\n",
       "      <th>2</th>\n",
       "      <td>-0.994972</td>\n",
       "      <td>-1.358354</td>\n",
       "      <td>-1.340163</td>\n",
       "      <td>1.773209</td>\n",
       "      <td>0.379780</td>\n",
       "      <td>-0.503198</td>\n",
       "      <td>1.800499</td>\n",
       "      <td>0.791461</td>\n",
       "      <td>0.247676</td>\n",
       "      <td>-1.514654</td>\n",
       "      <td>...</td>\n",
       "      <td>0.247998</td>\n",
       "      <td>0.771679</td>\n",
       "      <td>0.909412</td>\n",
       "      <td>-0.689281</td>\n",
       "      <td>-0.327642</td>\n",
       "      <td>-0.139097</td>\n",
       "      <td>-0.055353</td>\n",
       "      <td>-0.059752</td>\n",
       "      <td>4.983721</td>\n",
       "      <td>0</td>\n",
       "    </tr>\n",
       "    <tr>\n",
       "      <th>3</th>\n",
       "      <td>-0.994972</td>\n",
       "      <td>-0.966272</td>\n",
       "      <td>-0.185226</td>\n",
       "      <td>1.792993</td>\n",
       "      <td>-0.863291</td>\n",
       "      <td>-0.010309</td>\n",
       "      <td>1.247203</td>\n",
       "      <td>0.237609</td>\n",
       "      <td>0.377436</td>\n",
       "      <td>-1.387024</td>\n",
       "      <td>...</td>\n",
       "      <td>-0.108300</td>\n",
       "      <td>0.005274</td>\n",
       "      <td>-0.190321</td>\n",
       "      <td>-1.175575</td>\n",
       "      <td>0.647376</td>\n",
       "      <td>-0.221929</td>\n",
       "      <td>0.062723</td>\n",
       "      <td>0.061458</td>\n",
       "      <td>1.418291</td>\n",
       "      <td>0</td>\n",
       "    </tr>\n",
       "    <tr>\n",
       "      <th>4</th>\n",
       "      <td>-0.994960</td>\n",
       "      <td>-1.158233</td>\n",
       "      <td>0.877737</td>\n",
       "      <td>1.548718</td>\n",
       "      <td>0.403034</td>\n",
       "      <td>-0.407193</td>\n",
       "      <td>0.095921</td>\n",
       "      <td>0.592941</td>\n",
       "      <td>-0.270533</td>\n",
       "      <td>0.817739</td>\n",
       "      <td>...</td>\n",
       "      <td>-0.009431</td>\n",
       "      <td>0.798278</td>\n",
       "      <td>-0.137458</td>\n",
       "      <td>0.141267</td>\n",
       "      <td>-0.206010</td>\n",
       "      <td>0.502292</td>\n",
       "      <td>0.219422</td>\n",
       "      <td>0.215153</td>\n",
       "      <td>0.670579</td>\n",
       "      <td>0</td>\n",
       "    </tr>\n",
       "    <tr>\n",
       "      <th>...</th>\n",
       "      <td>...</td>\n",
       "      <td>...</td>\n",
       "      <td>...</td>\n",
       "      <td>...</td>\n",
       "      <td>...</td>\n",
       "      <td>...</td>\n",
       "      <td>...</td>\n",
       "      <td>...</td>\n",
       "      <td>...</td>\n",
       "      <td>...</td>\n",
       "      <td>...</td>\n",
       "      <td>...</td>\n",
       "      <td>...</td>\n",
       "      <td>...</td>\n",
       "      <td>...</td>\n",
       "      <td>...</td>\n",
       "      <td>...</td>\n",
       "      <td>...</td>\n",
       "      <td>...</td>\n",
       "      <td>...</td>\n",
       "      <td>...</td>\n",
       "    </tr>\n",
       "    <tr>\n",
       "      <th>284802</th>\n",
       "      <td>1.034951</td>\n",
       "      <td>-11.881118</td>\n",
       "      <td>10.071785</td>\n",
       "      <td>-9.834783</td>\n",
       "      <td>-2.066656</td>\n",
       "      <td>-5.364473</td>\n",
       "      <td>-2.606837</td>\n",
       "      <td>-4.918215</td>\n",
       "      <td>7.305334</td>\n",
       "      <td>1.914428</td>\n",
       "      <td>...</td>\n",
       "      <td>0.213454</td>\n",
       "      <td>0.111864</td>\n",
       "      <td>1.014480</td>\n",
       "      <td>-0.509348</td>\n",
       "      <td>1.436807</td>\n",
       "      <td>0.250034</td>\n",
       "      <td>0.943651</td>\n",
       "      <td>0.823731</td>\n",
       "      <td>-0.296653</td>\n",
       "      <td>0</td>\n",
       "    </tr>\n",
       "    <tr>\n",
       "      <th>284803</th>\n",
       "      <td>1.034963</td>\n",
       "      <td>-0.732789</td>\n",
       "      <td>-0.055080</td>\n",
       "      <td>2.035030</td>\n",
       "      <td>-0.738589</td>\n",
       "      <td>0.868229</td>\n",
       "      <td>1.058415</td>\n",
       "      <td>0.024330</td>\n",
       "      <td>0.294869</td>\n",
       "      <td>0.584800</td>\n",
       "      <td>...</td>\n",
       "      <td>0.214205</td>\n",
       "      <td>0.924384</td>\n",
       "      <td>0.012463</td>\n",
       "      <td>-1.016226</td>\n",
       "      <td>-0.606624</td>\n",
       "      <td>-0.395255</td>\n",
       "      <td>0.068472</td>\n",
       "      <td>-0.053527</td>\n",
       "      <td>0.038986</td>\n",
       "      <td>0</td>\n",
       "    </tr>\n",
       "    <tr>\n",
       "      <th>284804</th>\n",
       "      <td>1.034975</td>\n",
       "      <td>1.919565</td>\n",
       "      <td>-0.301254</td>\n",
       "      <td>-3.249640</td>\n",
       "      <td>-0.557828</td>\n",
       "      <td>2.630515</td>\n",
       "      <td>3.031260</td>\n",
       "      <td>-0.296827</td>\n",
       "      <td>0.708417</td>\n",
       "      <td>0.432454</td>\n",
       "      <td>...</td>\n",
       "      <td>0.232045</td>\n",
       "      <td>0.578229</td>\n",
       "      <td>-0.037501</td>\n",
       "      <td>0.640134</td>\n",
       "      <td>0.265745</td>\n",
       "      <td>-0.087371</td>\n",
       "      <td>0.004455</td>\n",
       "      <td>-0.026561</td>\n",
       "      <td>0.641096</td>\n",
       "      <td>0</td>\n",
       "    </tr>\n",
       "    <tr>\n",
       "      <th>284805</th>\n",
       "      <td>1.034975</td>\n",
       "      <td>-0.240440</td>\n",
       "      <td>0.530483</td>\n",
       "      <td>0.702510</td>\n",
       "      <td>0.689799</td>\n",
       "      <td>-0.377961</td>\n",
       "      <td>0.623708</td>\n",
       "      <td>-0.686180</td>\n",
       "      <td>0.679145</td>\n",
       "      <td>0.392087</td>\n",
       "      <td>...</td>\n",
       "      <td>0.265245</td>\n",
       "      <td>0.800049</td>\n",
       "      <td>-0.163298</td>\n",
       "      <td>0.123205</td>\n",
       "      <td>-0.569159</td>\n",
       "      <td>0.546668</td>\n",
       "      <td>0.108821</td>\n",
       "      <td>0.104533</td>\n",
       "      <td>-0.167680</td>\n",
       "      <td>0</td>\n",
       "    </tr>\n",
       "    <tr>\n",
       "      <th>284806</th>\n",
       "      <td>1.035022</td>\n",
       "      <td>-0.533413</td>\n",
       "      <td>-0.189733</td>\n",
       "      <td>0.703337</td>\n",
       "      <td>-0.506271</td>\n",
       "      <td>-0.012546</td>\n",
       "      <td>-0.649617</td>\n",
       "      <td>1.577006</td>\n",
       "      <td>-0.414650</td>\n",
       "      <td>0.486180</td>\n",
       "      <td>...</td>\n",
       "      <td>0.261057</td>\n",
       "      <td>0.643078</td>\n",
       "      <td>0.376777</td>\n",
       "      <td>0.008797</td>\n",
       "      <td>-0.473649</td>\n",
       "      <td>-0.818267</td>\n",
       "      <td>-0.002415</td>\n",
       "      <td>0.013649</td>\n",
       "      <td>2.724796</td>\n",
       "      <td>0</td>\n",
       "    </tr>\n",
       "  </tbody>\n",
       "</table>\n",
       "<p>284807 rows × 31 columns</p>\n",
       "</div>"
      ],
      "text/plain": [
       "            Time         V1         V2        V3        V4        V5  \\\n",
       "0      -0.994983  -1.359807  -0.072781  2.536347  1.378155 -0.338321   \n",
       "1      -0.994983   1.191857   0.266151  0.166480  0.448154  0.060018   \n",
       "2      -0.994972  -1.358354  -1.340163  1.773209  0.379780 -0.503198   \n",
       "3      -0.994972  -0.966272  -0.185226  1.792993 -0.863291 -0.010309   \n",
       "4      -0.994960  -1.158233   0.877737  1.548718  0.403034 -0.407193   \n",
       "...          ...        ...        ...       ...       ...       ...   \n",
       "284802  1.034951 -11.881118  10.071785 -9.834783 -2.066656 -5.364473   \n",
       "284803  1.034963  -0.732789  -0.055080  2.035030 -0.738589  0.868229   \n",
       "284804  1.034975   1.919565  -0.301254 -3.249640 -0.557828  2.630515   \n",
       "284805  1.034975  -0.240440   0.530483  0.702510  0.689799 -0.377961   \n",
       "284806  1.035022  -0.533413  -0.189733  0.703337 -0.506271 -0.012546   \n",
       "\n",
       "              V6        V7        V8        V9  ...       V21       V22  \\\n",
       "0       0.462388  0.239599  0.098698  0.363787  ... -0.018307  0.277838   \n",
       "1      -0.082361 -0.078803  0.085102 -0.255425  ... -0.225775 -0.638672   \n",
       "2       1.800499  0.791461  0.247676 -1.514654  ...  0.247998  0.771679   \n",
       "3       1.247203  0.237609  0.377436 -1.387024  ... -0.108300  0.005274   \n",
       "4       0.095921  0.592941 -0.270533  0.817739  ... -0.009431  0.798278   \n",
       "...          ...       ...       ...       ...  ...       ...       ...   \n",
       "284802 -2.606837 -4.918215  7.305334  1.914428  ...  0.213454  0.111864   \n",
       "284803  1.058415  0.024330  0.294869  0.584800  ...  0.214205  0.924384   \n",
       "284804  3.031260 -0.296827  0.708417  0.432454  ...  0.232045  0.578229   \n",
       "284805  0.623708 -0.686180  0.679145  0.392087  ...  0.265245  0.800049   \n",
       "284806 -0.649617  1.577006 -0.414650  0.486180  ...  0.261057  0.643078   \n",
       "\n",
       "             V23       V24       V25       V26       V27       V28    Amount  \\\n",
       "0      -0.110474  0.066928  0.128539 -0.189115  0.133558 -0.021053  1.783274   \n",
       "1       0.101288 -0.339846  0.167170  0.125895 -0.008983  0.014724 -0.269825   \n",
       "2       0.909412 -0.689281 -0.327642 -0.139097 -0.055353 -0.059752  4.983721   \n",
       "3      -0.190321 -1.175575  0.647376 -0.221929  0.062723  0.061458  1.418291   \n",
       "4      -0.137458  0.141267 -0.206010  0.502292  0.219422  0.215153  0.670579   \n",
       "...          ...       ...       ...       ...       ...       ...       ...   \n",
       "284802  1.014480 -0.509348  1.436807  0.250034  0.943651  0.823731 -0.296653   \n",
       "284803  0.012463 -1.016226 -0.606624 -0.395255  0.068472 -0.053527  0.038986   \n",
       "284804 -0.037501  0.640134  0.265745 -0.087371  0.004455 -0.026561  0.641096   \n",
       "284805 -0.163298  0.123205 -0.569159  0.546668  0.108821  0.104533 -0.167680   \n",
       "284806  0.376777  0.008797 -0.473649 -0.818267 -0.002415  0.013649  2.724796   \n",
       "\n",
       "        Class  \n",
       "0           0  \n",
       "1           0  \n",
       "2           0  \n",
       "3           0  \n",
       "4           0  \n",
       "...       ...  \n",
       "284802      0  \n",
       "284803      0  \n",
       "284804      0  \n",
       "284805      0  \n",
       "284806      0  \n",
       "\n",
       "[284807 rows x 31 columns]"
      ]
     },
     "execution_count": 12,
     "metadata": {},
     "output_type": "execute_result"
    }
   ],
   "source": [
    "df"
   ]
  },
  {
   "cell_type": "code",
   "execution_count": 13,
   "id": "6b961db1",
   "metadata": {
    "execution": {
     "iopub.execute_input": "2024-05-15T20:28:11.696979Z",
     "iopub.status.busy": "2024-05-15T20:28:11.696282Z",
     "iopub.status.idle": "2024-05-15T20:28:12.103181Z",
     "shell.execute_reply": "2024-05-15T20:28:12.102334Z"
    },
    "papermill": {
     "duration": 0.423167,
     "end_time": "2024-05-15T20:28:12.105320",
     "exception": false,
     "start_time": "2024-05-15T20:28:11.682153",
     "status": "completed"
    },
    "tags": []
   },
   "outputs": [
    {
     "data": {
      "text/plain": [
       "<Axes: xlabel='Class', ylabel='count'>"
      ]
     },
     "execution_count": 13,
     "metadata": {},
     "output_type": "execute_result"
    },
    {
     "data": {
      "image/png": "[encoded data removed]",
      "text/plain": [
       "<Figure size 640x480 with 1 Axes>"
      ]
     },
     "metadata": {},
     "output_type": "display_data"
    }
   ],
   "source": [
    "from sklearn.model_selection import train_test_split\n",
    "\n",
    "X = df.drop('Class', axis=1)\n",
    "y = df['Class']\n",
    "\n",
    "Xtrain, Xtest, ytrain,  ytest = train_test_split(X, y, test_size=0.2, random_state=818)\n",
    "\n",
    "df = df.sample(frac=1)\n",
    "fraud = df.loc[df.Class == 1]\n",
    "non_fraud = df.loc[df.Class == 0][:492]\n",
    "\n",
    "distributed_df = pd.concat([fraud, non_fraud])\n",
    "\n",
    "new_df = distributed_df.sample(frac=1, random_state=818)\n",
    "\n",
    "new_df.head()\n",
    "\n",
    "sns.countplot(new_df,x=\"Class\")"
   ]
  },
  {
   "cell_type": "code",
   "execution_count": 14,
   "id": "1d754ab7",
   "metadata": {
    "execution": {
     "iopub.execute_input": "2024-05-15T20:28:12.133913Z",
     "iopub.status.busy": "2024-05-15T20:28:12.133646Z",
     "iopub.status.idle": "2024-05-15T20:28:12.599472Z",
     "shell.execute_reply": "2024-05-15T20:28:12.598589Z"
    },
    "papermill": {
     "duration": 0.482489,
     "end_time": "2024-05-15T20:28:12.601604",
     "exception": false,
     "start_time": "2024-05-15T20:28:12.119115",
     "status": "completed"
    },
    "tags": []
   },
   "outputs": [
    {
     "data": {
      "text/plain": [
       "<Axes: >"
      ]
     },
     "execution_count": 14,
     "metadata": {},
     "output_type": "execute_result"
    },
    {
     "data": {
      "image/png": "[encoded data removed]",
      "text/plain": [
       "<Figure size 640x480 with 2 Axes>"
      ]
     },
     "metadata": {},
     "output_type": "display_data"
    }
   ],
   "source": [
    "relationship = new_df.corr()\n",
    "sns.heatmap(relationship)"
   ]
  },
  {
   "cell_type": "markdown",
   "id": "d4cd9502",
   "metadata": {
    "papermill": {
     "duration": 0.014164,
     "end_time": "2024-05-15T20:28:12.630309",
     "exception": false,
     "start_time": "2024-05-15T20:28:12.616145",
     "status": "completed"
    },
    "tags": []
   },
   "source": [
    "* 16-17-18 features have high relationship eventually that can be more re"
   ]
  },
  {
   "cell_type": "code",
   "execution_count": 15,
   "id": "023932d3",
   "metadata": {
    "execution": {
     "iopub.execute_input": "2024-05-15T20:28:12.659719Z",
     "iopub.status.busy": "2024-05-15T20:28:12.659453Z",
     "iopub.status.idle": "2024-05-15T20:28:12.673588Z",
     "shell.execute_reply": "2024-05-15T20:28:12.672765Z"
    },
    "papermill": {
     "duration": 0.031449,
     "end_time": "2024-05-15T20:28:12.675868",
     "exception": false,
     "start_time": "2024-05-15T20:28:12.644419",
     "status": "completed"
    },
    "tags": []
   },
   "outputs": [
    {
     "data": {
      "text/plain": [
       "array([-1.58053122, -1.43715842, -7.60911006, -8.39855199, -0.82730843,\n",
       "        1.17846785, -6.83783454, -1.21610811, -4.77740604, -1.11393664,\n",
       "       -0.73673376,  2.97174936, -7.72454574, -0.01682247,  0.97867564,\n",
       "       -4.74130271, -1.80751599, -5.50105078, -2.78959811, -9.49874592,\n",
       "        1.30620453,  0.11645252, -0.70637615, -1.12574106, -2.53645157,\n",
       "       -0.23705563, -0.04679588, -0.06485239, -0.35791068, -7.78404247,\n",
       "       -0.18061356, -1.41791683, -4.81858639,  1.64922352, -4.86801024,\n",
       "       -2.19271271,  0.18949849,  1.43719657, -4.32923927, -1.77239695,\n",
       "       -6.52201457, -4.1927802 , -2.48756257, -1.18303414, -4.15587937,\n",
       "       -7.26990459, -8.04543572, -4.89517519, -3.11637225, -7.26231079,\n",
       "       -1.09229027, -1.24324829, -4.69397774, -1.34930886,  0.65818293,\n",
       "       -5.00858518, -4.82474022, -1.35530869, -0.69425922, -8.09264877,\n",
       "       -0.77843996, -7.55278909, -0.15905677, -1.21360785,  1.12633522,\n",
       "       -4.86591774, -3.08196108, -3.14924669, -3.14924669, -4.71494676,\n",
       "        1.31533887,  0.26505199, -4.81823334, -6.75042522, -8.15366803,\n",
       "        0.25601389,  0.13036031, -3.84512966, -3.14924669, -1.71851117,\n",
       "       -2.51173568, -1.06215078, -4.36767713, -0.91205796, -2.58685705,\n",
       "        0.82681437, -7.26990459,  0.35552992,  0.44865566, -0.59759721,\n",
       "        1.19631815,  0.94147668, -1.31514721, -0.74917232,  0.67183243,\n",
       "        2.59184606, -0.16966418,  3.20763696, -4.69692444, -5.74865156,\n",
       "       -4.9030315 , -2.65153905, -0.34230073, -1.27165459, -0.7752712 ,\n",
       "        0.38977423, -1.18359274, -5.80459048,  0.51116178, -7.51186616,\n",
       "       -4.09302112,  1.79599192, -3.58360287,  0.49599953,  0.52418177,\n",
       "       -2.55710412, -4.70125278,  1.72532101, -0.52988508, -2.52544048,\n",
       "       -8.6688152 ,  0.70676503, -6.89884013, -3.24343644, -6.62697485,\n",
       "       -0.33801266,  1.14928219, -1.71046315,  1.07797898, -0.22544139,\n",
       "       -5.50105078, -4.95882982, -5.1166205 , -0.15996695, -0.03471916,\n",
       "        0.40965991,  2.28492676, -1.81543653,  0.5263492 , -0.69601   ,\n",
       "       -0.08546609, -1.97474852,  1.19731472, -8.49529894, -3.74017616,\n",
       "        0.70966602, -0.3709925 , -3.14924669, -2.9104303 , -4.90276667,\n",
       "       -5.03505152, -5.03071004, -0.93681465, -5.18538553, -4.36686728,\n",
       "       -1.50887329, -5.74853294,  0.19599183, -8.85945192,  0.12645975,\n",
       "       -3.40754854,  0.99410137, -1.4172308 , -2.55090085,  0.37638348,\n",
       "       -1.77280294, -4.83707903, -0.50699988,  2.59436483, -4.88446724,\n",
       "        0.52074584, -7.58997396, -4.01018815,  0.61097599, -2.002354  ,\n",
       "        0.84116906, -0.99429395, -4.64148196, -3.45143614, -4.65995587,\n",
       "       -7.4027308 , -4.92161209, -1.64370403, -1.47813794, -3.27190754,\n",
       "        0.34762669, -1.74611328, -0.63643692, -6.79263779,  0.12408707,\n",
       "       -1.12145416, -0.16209621,  0.4896678 , -1.30252592, -4.12062883,\n",
       "        0.80047147, -2.39019259,  2.13208138, -4.77334851,  0.05560397,\n",
       "       -5.50105078, -5.01642334, -4.95849391, -4.14677375, -0.95693845,\n",
       "       -5.75319975, -1.8381593 , -0.90351217, -0.05234602, -2.53096726,\n",
       "        1.59253819, -9.09089206, -5.61352195, -4.71542017, -0.30223942,\n",
       "       -5.75319975, -5.50105078, -3.50489419,  0.33465531, -4.82885763,\n",
       "       -3.5290656 , -4.48041257,  0.12522332, -3.58360287, -1.71808269,\n",
       "        0.13427731, -5.32200898,  0.04381609, -0.28566626, -1.10273079,\n",
       "       -6.52201457,  1.29195523, -4.36412771, -7.82346882, -2.55718414,\n",
       "        0.22473976, -1.64840609,  0.0865219 , -2.2431779 , -4.24397715,\n",
       "        1.1894329 , -1.34449753, -5.39234917,  0.6797513 , -9.04284515,\n",
       "       -8.82981977, -3.60459602,  1.92102109,  0.77783109,  0.41926551,\n",
       "        0.27237707, -7.45595633, -7.14746778,  0.39424735,  3.04249318,\n",
       "        1.25947071,  0.98535829, -2.1371866 ,  2.25681153, -3.92172214,\n",
       "       -2.34466857, -7.99078328, -0.9820899 , -0.68850546,  1.58075796,\n",
       "       -6.88889109, -1.14213344,  0.09299298, -5.77106443,  1.76224857,\n",
       "       -1.27128002, -3.11909388,  0.09681487,  0.27489084, -3.84512966,\n",
       "        0.10754401, -6.62697485,  0.05995611, -5.88213594,  0.83785666,\n",
       "        0.89170554, -4.18117755,  0.77873482, -1.2554224 , -8.48535581,\n",
       "       -1.0491774 , -5.10548647, -4.59188323, -1.58112819,  0.76836983,\n",
       "       -3.70506974,  0.38054157, -7.05165135, -7.54782411, -0.69706161,\n",
       "       -3.41570672, -5.88213594,  0.31759836, -5.74865156, -1.71187122,\n",
       "       -4.79184198, -3.54190333, -5.25370462, -4.19106627,  2.5306698 ,\n",
       "        0.27379897, -0.66706703, -2.77297411, -4.84738161, -1.0488449 ,\n",
       "       -2.42587064, -0.87052575, -0.64909012, -3.56358481, -1.79263494,\n",
       "       -1.06780012, -1.21222045, -8.48444906,  0.50056747,  1.31573456,\n",
       "        1.63408403,  0.23676204,  1.69122   , -1.75435461, -0.15169881,\n",
       "        0.2160161 , -2.32549168, -6.96985638, -0.47334668, -0.05140321,\n",
       "        0.03746666, -7.51726213,  1.62342609, -1.68028644, -1.99141208,\n",
       "       -0.12501779,  1.02631748, -4.37563101, -3.14924669, -0.70388346,\n",
       "       -0.55302609, -1.23588926, -4.96010863, -0.4300573 , -1.18382212,\n",
       "       -4.76102594, -4.79971013, -0.91293424,  1.61350956, -1.9217516 ,\n",
       "       -1.03848209, -5.24730111, -3.08651951, -7.64327282, -2.32855196,\n",
       "        0.42126136,  3.79031621,  0.09267867, -4.98990974, -4.78050779,\n",
       "        0.20528462, -1.89030998, -0.10431296, -3.14924669, -2.69295316,\n",
       "       -4.94021083, -4.89776604, -1.81916096,  0.12028937, -6.92076186,\n",
       "       -1.3428145 ,  0.77391387, -5.49492764,  1.48862036, -2.21362325,\n",
       "       -7.98672065, -6.05014766,  1.31107268,  1.83136353, -7.51805085,\n",
       "        0.32478727, -8.53452256, -1.04041265, -2.43467182,  0.4500985 ,\n",
       "       -0.94068467, -0.88039931, -4.67843653,  1.10910711, -1.13432875,\n",
       "       -4.87668342, -4.5902353 ,  0.24905675,  0.39015015, -1.9729278 ,\n",
       "       -6.0003588 , -7.07909578, -0.75578582, -2.55882785, -3.52516125,\n",
       "       -8.31409231, -4.98645726, -2.54740253, -1.93422536,  0.33574222,\n",
       "       -2.01293906,  0.7767441 ,  1.49430461,  2.78913116, -4.51089175,\n",
       "        0.29810342, -3.45798119, -3.74017616, -9.28783221, -0.52594933,\n",
       "       -1.85063546, -1.86304897, -0.75080977,  0.09146992, -4.33283424,\n",
       "        1.61960923, -4.74522384, -1.88754965, -3.08254995, -3.48093955,\n",
       "       -2.22479741, -0.44789916, -0.10410992, -0.30409239, -4.877119  ,\n",
       "        1.49239404,  1.08303951,  1.90627083,  0.56132271, -3.99051493,\n",
       "        3.29368759, -3.56358481, -1.5245054 , -2.49261611, -9.17055722,\n",
       "       -2.4348278 , -0.57082109, -2.48566878, -1.23485374, -2.95516522,\n",
       "       -0.39171605, -0.8122022 ,  1.10465991, -2.02444347, -2.8198066 ,\n",
       "        1.16276426,  0.93960369, -3.7555246 ,  0.21733071, -4.81034474,\n",
       "       -3.90409153, -1.37719109, -4.72136958, -0.10431296, -2.55033668,\n",
       "       -2.43806862,  1.40431089,  0.3077976 , -0.04941859, -5.19390789,\n",
       "       -1.27466622, -2.58841864, -9.26460873, -0.83334485,  2.56997143,\n",
       "       -4.56885928, -0.86457871, -8.39739305, -1.33931232, -2.19669121,\n",
       "       -0.06713511, -8.06120799, -0.61932324, -0.41387168, -0.46581473,\n",
       "       -2.58024866, -9.33519308, -2.61566494, -0.10390718, -0.28230726,\n",
       "       -1.26758713,  3.53125033, -4.88217964, -2.58402822, -5.13154863,\n",
       "       -4.71296759,  0.18332741])"
      ]
     },
     "execution_count": 15,
     "metadata": {},
     "output_type": "execute_result"
    }
   ],
   "source": [
    "from scipy.stats import norm\n",
    "new_df['V14'].loc[new_df['Class'] == 1].values\n",
    "new_df['V12'].loc[new_df['Class'] == 1].values\n",
    "new_df['V17'].loc[new_df['Class'] == 1].values\n",
    "new_df['V18'].loc[new_df['Class'] == 1].values"
   ]
  },
  {
   "cell_type": "code",
   "execution_count": 16,
   "id": "29dd3128",
   "metadata": {
    "execution": {
     "iopub.execute_input": "2024-05-15T20:28:12.705896Z",
     "iopub.status.busy": "2024-05-15T20:28:12.705652Z",
     "iopub.status.idle": "2024-05-15T20:28:13.333742Z",
     "shell.execute_reply": "2024-05-15T20:28:13.332829Z"
    },
    "papermill": {
     "duration": 0.645545,
     "end_time": "2024-05-15T20:28:13.336009",
     "exception": false,
     "start_time": "2024-05-15T20:28:12.690464",
     "status": "completed"
    },
    "tags": []
   },
   "outputs": [
    {
     "data": {
      "text/plain": [
       "<Axes: title={'center': 'v4 class comparisons'}, xlabel='Class', ylabel='V4'>"
      ]
     },
     "execution_count": 16,
     "metadata": {},
     "output_type": "execute_result"
    },
    {
     "data": {
      "image/png": "[encoded data removed]",
      "text/plain": [
       "<Figure size 2000x400 with 3 Axes>"
      ]
     },
     "metadata": {},
     "output_type": "display_data"
    }
   ],
   "source": [
    "fig, axes = plt.subplots(1,3 ,figsize=(20,4))\n",
    "axes[0].set_title(\"v11 class comparisons\")\n",
    "axes[1].set_title(\"v2 class comparisons \")\n",
    "axes[2].set_title(\"v4 class comparisons\")\n",
    "sns.boxplot(x=\"Class\", y=\"V11\", data=new_df,   ax=axes[0])\n",
    "sns.boxplot(x=\"Class\", y=\"V2\", data=new_df,   ax=axes[1])\n",
    "sns.boxplot(x=\"Class\", y=\"V4\", data=new_df,   ax=axes[2])"
   ]
  },
  {
   "cell_type": "code",
   "execution_count": 17,
   "id": "93af9990",
   "metadata": {
    "execution": {
     "iopub.execute_input": "2024-05-15T20:28:13.368084Z",
     "iopub.status.busy": "2024-05-15T20:28:13.367780Z",
     "iopub.status.idle": "2024-05-15T20:28:13.961406Z",
     "shell.execute_reply": "2024-05-15T20:28:13.960598Z"
    },
    "papermill": {
     "duration": 0.611872,
     "end_time": "2024-05-15T20:28:13.963479",
     "exception": false,
     "start_time": "2024-05-15T20:28:13.351607",
     "status": "completed"
    },
    "tags": []
   },
   "outputs": [
    {
     "data": {
      "text/plain": [
       "<Axes: >"
      ]
     },
     "execution_count": 17,
     "metadata": {},
     "output_type": "execute_result"
    },
    {
     "data": {
      "image/png": "[encoded data removed]",
      "text/plain": [
       "<Figure size 640x480 with 1 Axes>"
      ]
     },
     "metadata": {},
     "output_type": "display_data"
    }
   ],
   "source": [
    "sns.boxplot(data = new_df)"
   ]
  },
  {
   "cell_type": "code",
   "execution_count": 18,
   "id": "16fcaacf",
   "metadata": {
    "execution": {
     "iopub.execute_input": "2024-05-15T20:28:13.997196Z",
     "iopub.status.busy": "2024-05-15T20:28:13.996554Z",
     "iopub.status.idle": "2024-05-15T20:28:14.002434Z",
     "shell.execute_reply": "2024-05-15T20:28:14.001612Z"
    },
    "papermill": {
     "duration": 0.024486,
     "end_time": "2024-05-15T20:28:14.004249",
     "exception": false,
     "start_time": "2024-05-15T20:28:13.979763",
     "status": "completed"
    },
    "tags": []
   },
   "outputs": [],
   "source": [
    "def outlier_zscore(data,threshold = 3):\n",
    "    global outliers,zscore\n",
    "    outliers = []\n",
    "    zscore = []\n",
    "    \n",
    "    mean = np.mean(data)\n",
    "    std = np.std(data)\n",
    "    for i in data:\n",
    "        z_score= (i - mean)/std \n",
    "        zscore.append(z_score)\n",
    "        if np.abs(z_score) > threshold:\n",
    "            outliers.append(i)\n",
    "    return print(\"Total number of outliers are\",len(outliers))\n"
   ]
  },
  {
   "cell_type": "code",
   "execution_count": 19,
   "id": "0658f863",
   "metadata": {
    "execution": {
     "iopub.execute_input": "2024-05-15T20:28:14.036780Z",
     "iopub.status.busy": "2024-05-15T20:28:14.036521Z",
     "iopub.status.idle": "2024-05-15T20:28:14.110697Z",
     "shell.execute_reply": "2024-05-15T20:28:14.109534Z"
    },
    "papermill": {
     "duration": 0.092745,
     "end_time": "2024-05-15T20:28:14.112692",
     "exception": false,
     "start_time": "2024-05-15T20:28:14.019947",
     "status": "completed"
    },
    "tags": []
   },
   "outputs": [
    {
     "name": "stdout",
     "output_type": "stream",
     "text": [
      "Time\n",
      "Total number of outliers are 0\n",
      "V1\n",
      "Total number of outliers are 29\n",
      "V2\n",
      "Total number of outliers are 23\n",
      "V3\n",
      "Total number of outliers are 32\n",
      "V4\n",
      "Total number of outliers are 4\n",
      "V5\n",
      "Total number of outliers are 32\n",
      "V6\n",
      "Total number of outliers are 11\n",
      "V7\n",
      "Total number of outliers are 19\n",
      "V8\n",
      "Total number of outliers are 24\n",
      "V9\n",
      "Total number of outliers are 17\n",
      "V10\n",
      "Total number of outliers are 15\n",
      "V11\n",
      "Total number of outliers are 11\n",
      "V12\n",
      "Total number of outliers are 13\n",
      "V13\n",
      "Total number of outliers are 1\n",
      "V14\n",
      "Total number of outliers are 6\n",
      "V15\n",
      "Total number of outliers are 5\n",
      "V16\n",
      "Total number of outliers are 8\n",
      "V17\n",
      "Total number of outliers are 16\n",
      "V18\n",
      "Total number of outliers are 16\n",
      "V19\n",
      "Total number of outliers are 4\n",
      "V20\n",
      "Total number of outliers are 22\n",
      "V21\n",
      "Total number of outliers are 17\n",
      "V22\n",
      "Total number of outliers are 11\n",
      "V23\n",
      "Total number of outliers are 19\n",
      "V24\n",
      "Total number of outliers are 3\n",
      "V25\n",
      "Total number of outliers are 11\n",
      "V26\n",
      "Total number of outliers are 4\n",
      "V27\n",
      "Total number of outliers are 19\n",
      "V28\n",
      "Total number of outliers are 27\n",
      "Amount\n",
      "Total number of outliers are 20\n",
      "Class\n",
      "Total number of outliers are 0\n"
     ]
    }
   ],
   "source": [
    "for i in df.columns:\n",
    "    print (i)\n",
    "    outlier_zscore(new_df[i])"
   ]
  },
  {
   "cell_type": "code",
   "execution_count": 20,
   "id": "2ddade18",
   "metadata": {
    "execution": {
     "iopub.execute_input": "2024-05-15T20:28:14.145682Z",
     "iopub.status.busy": "2024-05-15T20:28:14.145423Z",
     "iopub.status.idle": "2024-05-15T20:28:14.153486Z",
     "shell.execute_reply": "2024-05-15T20:28:14.152659Z"
    },
    "papermill": {
     "duration": 0.026645,
     "end_time": "2024-05-15T20:28:14.155328",
     "exception": false,
     "start_time": "2024-05-15T20:28:14.128683",
     "status": "completed"
    },
    "tags": []
   },
   "outputs": [],
   "source": [
    "feature_list = ['V1', 'V2', 'V3', 'V4', 'V5', 'V6', 'V7', 'V8', 'V9', 'V10', 'V11',\n",
    "       'V12', 'V13', 'V14', 'V15', 'V16', 'V17', 'V18', 'V19', 'V20', 'V21',\n",
    "       'V22', 'V23', 'V24', 'V25', 'V26', 'V27', 'V28', 'Amount']\n",
    "\n",
    "def z_score_method(df,n,features):\n",
    "    \"\"\"\n",
    "    Takes a dataframe df of features and returns an index list corresponding to the observations \n",
    "    containing more than n outliers according to the z-score method.\n",
    "    \"\"\"\n",
    "    outlier_list = []\n",
    "    \n",
    "    for column in features:\n",
    "        data_mean = df[column].mean()\n",
    "        data_std = df[column].std()\n",
    "        threshold = 3\n",
    "        \n",
    "        z_score = abs( (df[column] - data_mean)/data_std )\n",
    "     \n",
    "        outlier_list_column =  df[z_score > threshold].index\n",
    "        \n",
    "        outlier_list.extend(outlier_list_column)\n",
    "        \n",
    "    outlier_list = Counter(outlier_list)        \n",
    "    multiple_outliers = list( k for k, v in outlier_list.items() if v > n )\n",
    "    \n",
    "    df1 = df[z_score > threshold]\n",
    "    print('Total number of outliers is:', df1.shape[0])\n",
    "    \n",
    "    return multiple_outliers\n",
    "# detecting outliers\n",
    "#Outliers_z_score = z_score_method(new_df,1,feature_list)\n",
    "\n",
    "# dropping outliers\n",
    "#df_out3 = df.drop(Outliers_z_score, axis = 0).reset_index(drop=True)"
   ]
  },
  {
   "cell_type": "code",
   "execution_count": 21,
   "id": "c5755527",
   "metadata": {
    "execution": {
     "iopub.execute_input": "2024-05-15T20:28:14.188475Z",
     "iopub.status.busy": "2024-05-15T20:28:14.188192Z",
     "iopub.status.idle": "2024-05-15T20:28:14.759042Z",
     "shell.execute_reply": "2024-05-15T20:28:14.758110Z"
    },
    "papermill": {
     "duration": 0.58965,
     "end_time": "2024-05-15T20:28:14.761149",
     "exception": false,
     "start_time": "2024-05-15T20:28:14.171499",
     "status": "completed"
    },
    "tags": []
   },
   "outputs": [
    {
     "data": {
      "text/plain": [
       "<Axes: title={'center': 'v4 class comparisons'}, xlabel='Class', ylabel='V4'>"
      ]
     },
     "execution_count": 21,
     "metadata": {},
     "output_type": "execute_result"
    },
    {
     "data": {
      "image/png": "[encoded data removed]",
      "text/plain": [
       "<Figure size 2000x400 with 3 Axes>"
      ]
     },
     "metadata": {},
     "output_type": "display_data"
    }
   ],
   "source": [
    "fig, axes = plt.subplots(1,3 ,figsize=(20,4))\n",
    "axes[0].set_title(\"v11 class comparisons\")\n",
    "axes[1].set_title(\"v2 class comparisons \")\n",
    "axes[2].set_title(\"v4 class comparisons\")\n",
    "sns.boxplot(x=\"Class\", y=\"V11\", data=new_df,   ax=axes[0])\n",
    "sns.boxplot(x=\"Class\", y=\"V2\", data=new_df,   ax=axes[1])\n",
    "sns.boxplot(x=\"Class\", y=\"V4\", data=new_df,   ax=axes[2])"
   ]
  },
  {
   "cell_type": "code",
   "execution_count": 22,
   "id": "08e14fe5",
   "metadata": {
    "execution": {
     "iopub.execute_input": "2024-05-15T20:28:14.835596Z",
     "iopub.status.busy": "2024-05-15T20:28:14.835017Z",
     "iopub.status.idle": "2024-05-15T20:28:14.840547Z",
     "shell.execute_reply": "2024-05-15T20:28:14.839671Z"
    },
    "papermill": {
     "duration": 0.025258,
     "end_time": "2024-05-15T20:28:14.842464",
     "exception": false,
     "start_time": "2024-05-15T20:28:14.817206",
     "status": "completed"
    },
    "tags": []
   },
   "outputs": [],
   "source": [
    "X = new_df.drop(\"Class\",axis=1)\n",
    "y = new_df[\"Class\"]"
   ]
  },
  {
   "cell_type": "code",
   "execution_count": 23,
   "id": "ae8135ab",
   "metadata": {
    "execution": {
     "iopub.execute_input": "2024-05-15T20:28:14.877065Z",
     "iopub.status.busy": "2024-05-15T20:28:14.876810Z",
     "iopub.status.idle": "2024-05-15T20:28:14.883594Z",
     "shell.execute_reply": "2024-05-15T20:28:14.882874Z"
    },
    "papermill": {
     "duration": 0.026145,
     "end_time": "2024-05-15T20:28:14.885476",
     "exception": false,
     "start_time": "2024-05-15T20:28:14.859331",
     "status": "completed"
    },
    "tags": []
   },
   "outputs": [],
   "source": [
    "from sklearn.model_selection import train_test_split\n",
    "x_train,x_test,y_train,y_test = train_test_split(X,y,test_size = 0.2,random_state=818)\n",
    "# Turn the values into an array for classification algorithms.\n",
    "x_train = x_train.values\n",
    "x_test = x_test.values\n",
    "y_train = y_train.values\n",
    "y_test = y_test.values"
   ]
  },
  {
   "cell_type": "code",
   "execution_count": 24,
   "id": "c9cd28ac",
   "metadata": {
    "execution": {
     "iopub.execute_input": "2024-05-15T20:28:14.919938Z",
     "iopub.status.busy": "2024-05-15T20:28:14.919682Z",
     "iopub.status.idle": "2024-05-15T20:28:15.202173Z",
     "shell.execute_reply": "2024-05-15T20:28:15.201051Z"
    },
    "papermill": {
     "duration": 0.302615,
     "end_time": "2024-05-15T20:28:15.204694",
     "exception": false,
     "start_time": "2024-05-15T20:28:14.902079",
     "status": "completed"
    },
    "tags": []
   },
   "outputs": [],
   "source": [
    "from sklearn.linear_model import LogisticRegression\n",
    "from sklearn.svm import SVC\n",
    "from sklearn.neighbors import KNeighborsClassifier\n",
    "from sklearn.tree import DecisionTreeClassifier\n",
    "from sklearn.ensemble import RandomForestClassifier\n",
    "\n",
    "classifiers = {\n",
    "    \"LogisiticRegression\": LogisticRegression(),\n",
    "    \"KNN\": KNeighborsClassifier(),\n",
    "    \"Support Vector Classifier\": SVC(),\n",
    "    \"DecisionTreeClassifier\": DecisionTreeClassifier()\n",
    "}"
   ]
  },
  {
   "cell_type": "code",
   "execution_count": 25,
   "id": "ef27f25f",
   "metadata": {
    "execution": {
     "iopub.execute_input": "2024-05-15T20:28:15.241550Z",
     "iopub.status.busy": "2024-05-15T20:28:15.241235Z",
     "iopub.status.idle": "2024-05-15T20:28:15.356167Z",
     "shell.execute_reply": "2024-05-15T20:28:15.355414Z"
    },
    "papermill": {
     "duration": 0.134738,
     "end_time": "2024-05-15T20:28:15.358213",
     "exception": false,
     "start_time": "2024-05-15T20:28:15.223475",
     "status": "completed"
    },
    "tags": []
   },
   "outputs": [],
   "source": [
    "from imblearn.pipeline import make_pipeline\n",
    "from imblearn.over_sampling import SMOTE\n",
    "from imblearn.under_sampling import NearMiss\n",
    "from imblearn.metrics import classification_report_imbalanced\n",
    "from sklearn.metrics import precision_score, recall_score, f1_score, roc_auc_score, accuracy_score, classification_report\n",
    "from sklearn.model_selection import KFold, StratifiedKFold,cross_val_score,GridSearchCV,cross_val_predict"
   ]
  },
  {
   "cell_type": "code",
   "execution_count": 26,
   "id": "9202ab8a",
   "metadata": {
    "execution": {
     "iopub.execute_input": "2024-05-15T20:28:15.393647Z",
     "iopub.status.busy": "2024-05-15T20:28:15.393192Z",
     "iopub.status.idle": "2024-05-15T20:28:15.904120Z",
     "shell.execute_reply": "2024-05-15T20:28:15.902904Z"
    },
    "papermill": {
     "duration": 0.530855,
     "end_time": "2024-05-15T20:28:15.906369",
     "exception": false,
     "start_time": "2024-05-15T20:28:15.375514",
     "status": "completed"
    },
    "tags": []
   },
   "outputs": [
    {
     "name": "stdout",
     "output_type": "stream",
     "text": [
      "Classifiers:  LogisticRegression Has a training score of 93.0 % accuracy score\n",
      "Classifiers:  KNeighborsClassifier Has a training score of 94.0 % accuracy score\n",
      "Classifiers:  SVC Has a training score of 93.0 % accuracy score\n",
      "Classifiers:  DecisionTreeClassifier Has a training score of 90.0 % accuracy score\n"
     ]
    }
   ],
   "source": [
    "for key, classifier in classifiers.items():\n",
    "    classifier.fit(x_train, y_train)\n",
    "    training_score = cross_val_score(classifier, x_train, y_train, cv=5)\n",
    "    print(\"Classifiers: \", classifier.__class__.__name__, \"Has a training score of\", round(training_score.mean(), 2) * 100, \"% accuracy score\")"
   ]
  },
  {
   "cell_type": "code",
   "execution_count": 27,
   "id": "a4865bba",
   "metadata": {
    "execution": {
     "iopub.execute_input": "2024-05-15T20:28:15.944519Z",
     "iopub.status.busy": "2024-05-15T20:28:15.943700Z",
     "iopub.status.idle": "2024-05-15T20:28:19.619173Z",
     "shell.execute_reply": "2024-05-15T20:28:19.618406Z"
    },
    "papermill": {
     "duration": 3.696663,
     "end_time": "2024-05-15T20:28:19.621518",
     "exception": false,
     "start_time": "2024-05-15T20:28:15.924855",
     "status": "completed"
    },
    "tags": []
   },
   "outputs": [],
   "source": [
    "log_reg_params = {\"penalty\": ['l2'], 'C': [0.001, 0.01, 0.1, 1, 10, 100, 1000]}\n",
    "\n",
    "grid_log_reg = GridSearchCV(LogisticRegression(max_iter=1000), log_reg_params)\n",
    "grid_log_reg.fit(x_train, y_train)\n",
    "log_reg = grid_log_reg.best_estimator_\n",
    "\n",
    "knears_params = {\"n_neighbors\": list(range(2,5,1)), 'algorithm': ['auto', 'ball_tree', 'kd_tree', 'brute']}\n",
    "\n",
    "grid_knears = GridSearchCV(KNeighborsClassifier(), knears_params)\n",
    "grid_knears.fit(x_train, y_train)\n",
    "# KNears best estimator\n",
    "knears_neighbors = grid_knears.best_estimator_\n",
    "\n",
    "# Support Vector Classifier\n",
    "svc_params = {'C': [0.5, 0.7, 0.9, 1], 'kernel': ['rbf', 'poly', 'sigmoid', 'linear']}\n",
    "grid_svc = GridSearchCV(SVC(), svc_params)\n",
    "grid_svc.fit(x_train, y_train)\n",
    "\n",
    "# SVC best estimator\n",
    "svc = grid_svc.best_estimator_\n",
    "\n",
    "# DecisionTree Classifier\n",
    "tree_params = {\"criterion\": [\"gini\", \"entropy\"], \"max_depth\": list(range(2,4,1)), \n",
    "              \"min_samples_leaf\": list(range(5,7,1))}\n",
    "grid_tree = GridSearchCV(DecisionTreeClassifier(), tree_params)\n",
    "grid_tree.fit(x_train, y_train)\n",
    "\n",
    "# tree best estimator\n",
    "tree_clf = grid_tree.best_estimator_"
   ]
  },
  {
   "cell_type": "code",
   "execution_count": 28,
   "id": "c2af5c26",
   "metadata": {
    "execution": {
     "iopub.execute_input": "2024-05-15T20:28:19.657065Z",
     "iopub.status.busy": "2024-05-15T20:28:19.656782Z",
     "iopub.status.idle": "2024-05-15T20:28:20.017999Z",
     "shell.execute_reply": "2024-05-15T20:28:20.017154Z"
    },
    "papermill": {
     "duration": 0.381243,
     "end_time": "2024-05-15T20:28:20.020254",
     "exception": false,
     "start_time": "2024-05-15T20:28:19.639011",
     "status": "completed"
    },
    "tags": []
   },
   "outputs": [
    {
     "name": "stdout",
     "output_type": "stream",
     "text": [
      "Logistic Regression Cross Validation Score:  93.78%\n",
      "Knears Neighbors Cross Validation Score 94.28%\n",
      "Support Vector Classifier Cross Validation Score 94.29%\n",
      "DecisionTree Classifier Cross Validation Score 92.76%\n"
     ]
    }
   ],
   "source": [
    "log_reg_score = cross_val_score(log_reg, x_train, y_train, cv=5)\n",
    "print('Logistic Regression Cross Validation Score: ', round(log_reg_score.mean() * 100, 2).astype(str) + '%')\n",
    "\n",
    "\n",
    "knears_score = cross_val_score(knears_neighbors, x_train, y_train, cv=5)\n",
    "print('Knears Neighbors Cross Validation Score', round(knears_score.mean() * 100, 2).astype(str) + '%')\n",
    "\n",
    "svc_score = cross_val_score(svc, x_train, y_train, cv=5)\n",
    "print('Support Vector Classifier Cross Validation Score', round(svc_score.mean() * 100, 2).astype(str) + '%')\n",
    "\n",
    "tree_score = cross_val_score(tree_clf, x_train, y_train, cv=5)\n",
    "print('DecisionTree Classifier Cross Validation Score', round(tree_score.mean() * 100, 2).astype(str) + '%')"
   ]
  },
  {
   "cell_type": "code",
   "execution_count": 29,
   "id": "99703c19",
   "metadata": {
    "execution": {
     "iopub.execute_input": "2024-05-15T20:28:20.056381Z",
     "iopub.status.busy": "2024-05-15T20:28:20.056074Z",
     "iopub.status.idle": "2024-05-15T20:28:20.391248Z",
     "shell.execute_reply": "2024-05-15T20:28:20.390538Z"
    },
    "papermill": {
     "duration": 0.355657,
     "end_time": "2024-05-15T20:28:20.393387",
     "exception": false,
     "start_time": "2024-05-15T20:28:20.037730",
     "status": "completed"
    },
    "tags": []
   },
   "outputs": [],
   "source": [
    "log_reg_pred = cross_val_predict(log_reg, x_train, y_train, cv=5,\n",
    "                             method=\"decision_function\")\n",
    "\n",
    "knears_pred = cross_val_predict(knears_neighbors, x_train, y_train, cv=5)\n",
    "\n",
    "svc_pred = cross_val_predict(svc, x_train, y_train, cv=5,\n",
    "                             method=\"decision_function\")\n",
    "\n",
    "tree_pred = cross_val_predict(tree_clf, x_train, y_train, cv=5)"
   ]
  },
  {
   "cell_type": "code",
   "execution_count": 30,
   "id": "e330f567",
   "metadata": {
    "execution": {
     "iopub.execute_input": "2024-05-15T20:28:20.429165Z",
     "iopub.status.busy": "2024-05-15T20:28:20.428897Z",
     "iopub.status.idle": "2024-05-15T20:28:20.443503Z",
     "shell.execute_reply": "2024-05-15T20:28:20.442462Z"
    },
    "papermill": {
     "duration": 0.034742,
     "end_time": "2024-05-15T20:28:20.445526",
     "exception": false,
     "start_time": "2024-05-15T20:28:20.410784",
     "status": "completed"
    },
    "tags": []
   },
   "outputs": [
    {
     "name": "stdout",
     "output_type": "stream",
     "text": [
      "Logistic Regression:  0.9763417942259252\n",
      "KNears Neighbors:  0.9431666989601498\n",
      "Support Vector Classifier:  0.9681973777691663\n",
      "Decision Tree Classifier:  0.9279629270813149\n"
     ]
    }
   ],
   "source": [
    "print('Logistic Regression: ', roc_auc_score(y_train, log_reg_pred))\n",
    "print('KNears Neighbors: ', roc_auc_score(y_train, knears_pred))\n",
    "print('Support Vector Classifier: ', roc_auc_score(y_train, svc_pred))\n",
    "print('Decision Tree Classifier: ', roc_auc_score(y_train, tree_pred))"
   ]
  },
  {
   "cell_type": "code",
   "execution_count": 31,
   "id": "1c82bd3b",
   "metadata": {
    "execution": {
     "iopub.execute_input": "2024-05-15T20:28:20.480935Z",
     "iopub.status.busy": "2024-05-15T20:28:20.480668Z",
     "iopub.status.idle": "2024-05-15T20:28:20.522562Z",
     "shell.execute_reply": "2024-05-15T20:28:20.521536Z"
    },
    "papermill": {
     "duration": 0.061763,
     "end_time": "2024-05-15T20:28:20.524492",
     "exception": false,
     "start_time": "2024-05-15T20:28:20.462729",
     "status": "completed"
    },
    "tags": []
   },
   "outputs": [
    {
     "name": "stdout",
     "output_type": "stream",
     "text": [
      "              precision    recall  f1-score   support\n",
      "\n",
      "           0       0.93      0.98      0.96       102\n",
      "           1       0.98      0.93      0.95        95\n",
      "\n",
      "    accuracy                           0.95       197\n",
      "   macro avg       0.96      0.95      0.95       197\n",
      "weighted avg       0.96      0.95      0.95       197\n",
      "\n",
      "              precision    recall  f1-score   support\n",
      "\n",
      "           0       0.95      0.96      0.96       102\n",
      "           1       0.96      0.95      0.95        95\n",
      "\n",
      "    accuracy                           0.95       197\n",
      "   macro avg       0.95      0.95      0.95       197\n",
      "weighted avg       0.95      0.95      0.95       197\n",
      "\n",
      "              precision    recall  f1-score   support\n",
      "\n",
      "           0       0.94      0.97      0.96       102\n",
      "           1       0.97      0.94      0.95        95\n",
      "\n",
      "    accuracy                           0.95       197\n",
      "   macro avg       0.96      0.95      0.95       197\n",
      "weighted avg       0.95      0.95      0.95       197\n",
      "\n"
     ]
    }
   ],
   "source": [
    "print(classification_report(y_test,log_reg.predict(x_test)))\n",
    "print(classification_report(y_test,knears_neighbors.predict(x_test)))\n",
    "print(classification_report(y_test,svc.predict(x_test)))"
   ]
  },
  {
   "cell_type": "code",
   "execution_count": null,
   "id": "82905f71",
   "metadata": {
    "papermill": {
     "duration": 0.017162,
     "end_time": "2024-05-15T20:28:20.558883",
     "exception": false,
     "start_time": "2024-05-15T20:28:20.541721",
     "status": "completed"
    },
    "tags": []
   },
   "outputs": [],
   "source": []
  },
  {
   "cell_type": "code",
   "execution_count": null,
   "id": "23aab214",
   "metadata": {
    "papermill": {
     "duration": 0.017143,
     "end_time": "2024-05-15T20:28:20.593596",
     "exception": false,
     "start_time": "2024-05-15T20:28:20.576453",
     "status": "completed"
    },
    "tags": []
   },
   "outputs": [],
   "source": []
  },
  {
   "cell_type": "code",
   "execution_count": null,
   "id": "dfe8492b",
   "metadata": {
    "papermill": {
     "duration": 0.017097,
     "end_time": "2024-05-15T20:28:20.628201",
     "exception": false,
     "start_time": "2024-05-15T20:28:20.611104",
     "status": "completed"
    },
    "tags": []
   },
   "outputs": [],
   "source": []
  },
  {
   "cell_type": "code",
   "execution_count": null,
   "id": "528e96bc",
   "metadata": {
    "papermill": {
     "duration": 0.016987,
     "end_time": "2024-05-15T20:28:20.662288",
     "exception": false,
     "start_time": "2024-05-15T20:28:20.645301",
     "status": "completed"
    },
    "tags": []
   },
   "outputs": [],
   "source": []
  },
  {
   "cell_type": "code",
   "execution_count": null,
   "id": "bdc2bbac",
   "metadata": {
    "papermill": {
     "duration": 0.01685,
     "end_time": "2024-05-15T20:28:20.696329",
     "exception": false,
     "start_time": "2024-05-15T20:28:20.679479",
     "status": "completed"
    },
    "tags": []
   },
   "outputs": [],
   "source": []
  },
  {
   "cell_type": "code",
   "execution_count": null,
   "id": "6e1f193a",
   "metadata": {
    "papermill": {
     "duration": 0.016916,
     "end_time": "2024-05-15T20:28:20.730262",
     "exception": false,
     "start_time": "2024-05-15T20:28:20.713346",
     "status": "completed"
    },
    "tags": []
   },
   "outputs": [],
   "source": []
  },
  {
   "cell_type": "code",
   "execution_count": null,
   "id": "092a1b64",
   "metadata": {
    "papermill": {
     "duration": 0.016912,
     "end_time": "2024-05-15T20:28:20.764241",
     "exception": false,
     "start_time": "2024-05-15T20:28:20.747329",
     "status": "completed"
    },
    "tags": []
   },
   "outputs": [],
   "source": []
  },
  {
   "cell_type": "code",
   "execution_count": null,
   "id": "38d984d8",
   "metadata": {
    "papermill": {
     "duration": 0.016901,
     "end_time": "2024-05-15T20:28:20.798419",
     "exception": false,
     "start_time": "2024-05-15T20:28:20.781518",
     "status": "completed"
    },
    "tags": []
   },
   "outputs": [],
   "source": []
  },
  {
   "cell_type": "code",
   "execution_count": null,
   "id": "5e4c7062",
   "metadata": {
    "papermill": {
     "duration": 0.01698,
     "end_time": "2024-05-15T20:28:20.832476",
     "exception": false,
     "start_time": "2024-05-15T20:28:20.815496",
     "status": "completed"
    },
    "tags": []
   },
   "outputs": [],
   "source": []
  },
  {
   "cell_type": "code",
   "execution_count": null,
   "id": "97d9efdb",
   "metadata": {
    "papermill": {
     "duration": 0.016855,
     "end_time": "2024-05-15T20:28:20.866346",
     "exception": false,
     "start_time": "2024-05-15T20:28:20.849491",
     "status": "completed"
    },
    "tags": []
   },
   "outputs": [],
   "source": []
  },
  {
   "cell_type": "code",
   "execution_count": null,
   "id": "3c9f86fc",
   "metadata": {
    "papermill": {
     "duration": 0.016914,
     "end_time": "2024-05-15T20:28:20.900374",
     "exception": false,
     "start_time": "2024-05-15T20:28:20.883460",
     "status": "completed"
    },
    "tags": []
   },
   "outputs": [],
   "source": []
  }
 ],
 "metadata": {
  "kaggle": {
   "accelerator": "gpu",
   "dataSources": [
    {
     "datasetId": 310,
     "sourceId": 23498,
     "sourceType": "datasetVersion"
    }
   ],
   "isGpuEnabled": true,
   "isInternetEnabled": true,
   "language": "python",
   "sourceType": "notebook"
  },
  "kernelspec": {
   "display_name": "Python 3",
   "language": "python",
   "name": "python3"
  },
  "language_info": {
   "codemirror_mode": {
    "name": "ipython",
    "version": 3
   },
   "file_extension": ".py",
   "mimetype": "text/x-python",
   "name": "python",
   "nbconvert_exporter": "python",
   "pygments_lexer": "ipython3",
   "version": "3.10.13"
  },
  "papermill": {
   "default_parameters": {},
   "duration": 19.377034,
   "end_time": "2024-05-15T20:28:21.336104",
   "environment_variables": {},
   "exception": null,
   "input_path": "__notebook__.ipynb",
   "output_path": "__notebook__.ipynb",
   "parameters": {},
   "start_time": "2024-05-15T20:28:01.959070",
   "version": "2.5.0"
  }
 },
 "nbformat": 4,
 "nbformat_minor": 5
}
